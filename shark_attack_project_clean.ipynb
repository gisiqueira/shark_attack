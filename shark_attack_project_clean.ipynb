{
 "cells": [
  {
   "cell_type": "markdown",
   "metadata": {
    "ExecuteTime": {
     "end_time": "2021-01-15T19:46:33.266708Z",
     "start_time": "2021-01-15T19:46:33.250701Z"
    }
   },
   "source": [
    "# Propósito da análise\n",
    "\n",
    "Com essa base de dados espero obter informações sobre:\n",
    "\n",
    "- Ataques de tubarões nos últimos 50 anos\n",
    "- Realizando qual atividade as pessoas sofreram mais ataques\n",
    "- Desses ataques, quais foram fatais\n",
    "- Dos que não foram fatais, quais deixaram sequelas\n",
    "- Qual país tem mais ataques de tubarão\n"
   ]
  },
  {
   "cell_type": "markdown",
   "metadata": {},
   "source": [
    "## importando bibliotecas e a base de dados \n"
   ]
  },
  {
   "cell_type": "code",
   "execution_count": 1,
   "metadata": {
    "ExecuteTime": {
     "end_time": "2021-01-16T04:57:29.490015Z",
     "start_time": "2021-01-16T04:57:28.815911Z"
    }
   },
   "outputs": [],
   "source": [
    "import pandas as pd\n",
    "import numpy as np\n",
    "import re"
   ]
  },
  {
   "cell_type": "code",
   "execution_count": 2,
   "metadata": {
    "ExecuteTime": {
     "end_time": "2021-01-16T04:57:30.445797Z",
     "start_time": "2021-01-16T04:57:30.279380Z"
    }
   },
   "outputs": [],
   "source": [
    "df=pd.read_csv(\"../../shark_project/shark_attack/attacks.csv\", encoding='latin1')"
   ]
  },
  {
   "cell_type": "markdown",
   "metadata": {},
   "source": [
    "## Explorando"
   ]
  },
  {
   "cell_type": "code",
   "execution_count": 3,
   "metadata": {
    "ExecuteTime": {
     "end_time": "2021-01-16T04:57:33.366427Z",
     "start_time": "2021-01-16T04:57:33.266007Z"
    }
   },
   "outputs": [
    {
     "data": {
      "text/html": [
       "<div>\n",
       "<style scoped>\n",
       "    .dataframe tbody tr th:only-of-type {\n",
       "        vertical-align: middle;\n",
       "    }\n",
       "\n",
       "    .dataframe tbody tr th {\n",
       "        vertical-align: top;\n",
       "    }\n",
       "\n",
       "    .dataframe thead th {\n",
       "        text-align: right;\n",
       "    }\n",
       "</style>\n",
       "<table border=\"1\" class=\"dataframe\">\n",
       "  <thead>\n",
       "    <tr style=\"text-align: right;\">\n",
       "      <th></th>\n",
       "      <th>Case Number</th>\n",
       "      <th>Date</th>\n",
       "      <th>Year</th>\n",
       "      <th>Type</th>\n",
       "      <th>Country</th>\n",
       "      <th>Area</th>\n",
       "      <th>Location</th>\n",
       "      <th>Activity</th>\n",
       "      <th>Name</th>\n",
       "      <th>Sex</th>\n",
       "      <th>...</th>\n",
       "      <th>Species</th>\n",
       "      <th>Investigator or Source</th>\n",
       "      <th>pdf</th>\n",
       "      <th>href formula</th>\n",
       "      <th>href</th>\n",
       "      <th>Case Number.1</th>\n",
       "      <th>Case Number.2</th>\n",
       "      <th>original order</th>\n",
       "      <th>Unnamed: 22</th>\n",
       "      <th>Unnamed: 23</th>\n",
       "    </tr>\n",
       "  </thead>\n",
       "  <tbody>\n",
       "    <tr>\n",
       "      <th>0</th>\n",
       "      <td>2018.06.25</td>\n",
       "      <td>25-Jun-2018</td>\n",
       "      <td>2018.0</td>\n",
       "      <td>Boating</td>\n",
       "      <td>USA</td>\n",
       "      <td>California</td>\n",
       "      <td>Oceanside, San Diego County</td>\n",
       "      <td>Paddling</td>\n",
       "      <td>Julie Wolfe</td>\n",
       "      <td>F</td>\n",
       "      <td>...</td>\n",
       "      <td>White shark</td>\n",
       "      <td>R. Collier, GSAF</td>\n",
       "      <td>2018.06.25-Wolfe.pdf</td>\n",
       "      <td>http://sharkattackfile.net/spreadsheets/pdf_di...</td>\n",
       "      <td>http://sharkattackfile.net/spreadsheets/pdf_di...</td>\n",
       "      <td>2018.06.25</td>\n",
       "      <td>2018.06.25</td>\n",
       "      <td>6303.0</td>\n",
       "      <td>NaN</td>\n",
       "      <td>NaN</td>\n",
       "    </tr>\n",
       "    <tr>\n",
       "      <th>1</th>\n",
       "      <td>2018.06.18</td>\n",
       "      <td>18-Jun-2018</td>\n",
       "      <td>2018.0</td>\n",
       "      <td>Unprovoked</td>\n",
       "      <td>USA</td>\n",
       "      <td>Georgia</td>\n",
       "      <td>St. Simon Island, Glynn County</td>\n",
       "      <td>Standing</td>\n",
       "      <td>Adyson McNeely</td>\n",
       "      <td>F</td>\n",
       "      <td>...</td>\n",
       "      <td>NaN</td>\n",
       "      <td>K.McMurray, TrackingSharks.com</td>\n",
       "      <td>2018.06.18-McNeely.pdf</td>\n",
       "      <td>http://sharkattackfile.net/spreadsheets/pdf_di...</td>\n",
       "      <td>http://sharkattackfile.net/spreadsheets/pdf_di...</td>\n",
       "      <td>2018.06.18</td>\n",
       "      <td>2018.06.18</td>\n",
       "      <td>6302.0</td>\n",
       "      <td>NaN</td>\n",
       "      <td>NaN</td>\n",
       "    </tr>\n",
       "    <tr>\n",
       "      <th>2</th>\n",
       "      <td>2018.06.09</td>\n",
       "      <td>09-Jun-2018</td>\n",
       "      <td>2018.0</td>\n",
       "      <td>Invalid</td>\n",
       "      <td>USA</td>\n",
       "      <td>Hawaii</td>\n",
       "      <td>Habush, Oahu</td>\n",
       "      <td>Surfing</td>\n",
       "      <td>John Denges</td>\n",
       "      <td>M</td>\n",
       "      <td>...</td>\n",
       "      <td>NaN</td>\n",
       "      <td>K.McMurray, TrackingSharks.com</td>\n",
       "      <td>2018.06.09-Denges.pdf</td>\n",
       "      <td>http://sharkattackfile.net/spreadsheets/pdf_di...</td>\n",
       "      <td>http://sharkattackfile.net/spreadsheets/pdf_di...</td>\n",
       "      <td>2018.06.09</td>\n",
       "      <td>2018.06.09</td>\n",
       "      <td>6301.0</td>\n",
       "      <td>NaN</td>\n",
       "      <td>NaN</td>\n",
       "    </tr>\n",
       "    <tr>\n",
       "      <th>3</th>\n",
       "      <td>2018.06.08</td>\n",
       "      <td>08-Jun-2018</td>\n",
       "      <td>2018.0</td>\n",
       "      <td>Unprovoked</td>\n",
       "      <td>AUSTRALIA</td>\n",
       "      <td>New South Wales</td>\n",
       "      <td>Arrawarra Headland</td>\n",
       "      <td>Surfing</td>\n",
       "      <td>male</td>\n",
       "      <td>M</td>\n",
       "      <td>...</td>\n",
       "      <td>2 m shark</td>\n",
       "      <td>B. Myatt, GSAF</td>\n",
       "      <td>2018.06.08-Arrawarra.pdf</td>\n",
       "      <td>http://sharkattackfile.net/spreadsheets/pdf_di...</td>\n",
       "      <td>http://sharkattackfile.net/spreadsheets/pdf_di...</td>\n",
       "      <td>2018.06.08</td>\n",
       "      <td>2018.06.08</td>\n",
       "      <td>6300.0</td>\n",
       "      <td>NaN</td>\n",
       "      <td>NaN</td>\n",
       "    </tr>\n",
       "    <tr>\n",
       "      <th>4</th>\n",
       "      <td>2018.06.04</td>\n",
       "      <td>04-Jun-2018</td>\n",
       "      <td>2018.0</td>\n",
       "      <td>Provoked</td>\n",
       "      <td>MEXICO</td>\n",
       "      <td>Colima</td>\n",
       "      <td>La Ticla</td>\n",
       "      <td>Free diving</td>\n",
       "      <td>Gustavo Ramos</td>\n",
       "      <td>M</td>\n",
       "      <td>...</td>\n",
       "      <td>Tiger shark, 3m</td>\n",
       "      <td>A .Kipper</td>\n",
       "      <td>2018.06.04-Ramos.pdf</td>\n",
       "      <td>http://sharkattackfile.net/spreadsheets/pdf_di...</td>\n",
       "      <td>http://sharkattackfile.net/spreadsheets/pdf_di...</td>\n",
       "      <td>2018.06.04</td>\n",
       "      <td>2018.06.04</td>\n",
       "      <td>6299.0</td>\n",
       "      <td>NaN</td>\n",
       "      <td>NaN</td>\n",
       "    </tr>\n",
       "    <tr>\n",
       "      <th>...</th>\n",
       "      <td>...</td>\n",
       "      <td>...</td>\n",
       "      <td>...</td>\n",
       "      <td>...</td>\n",
       "      <td>...</td>\n",
       "      <td>...</td>\n",
       "      <td>...</td>\n",
       "      <td>...</td>\n",
       "      <td>...</td>\n",
       "      <td>...</td>\n",
       "      <td>...</td>\n",
       "      <td>...</td>\n",
       "      <td>...</td>\n",
       "      <td>...</td>\n",
       "      <td>...</td>\n",
       "      <td>...</td>\n",
       "      <td>...</td>\n",
       "      <td>...</td>\n",
       "      <td>...</td>\n",
       "      <td>...</td>\n",
       "      <td>...</td>\n",
       "    </tr>\n",
       "    <tr>\n",
       "      <th>25718</th>\n",
       "      <td>NaN</td>\n",
       "      <td>NaN</td>\n",
       "      <td>NaN</td>\n",
       "      <td>NaN</td>\n",
       "      <td>NaN</td>\n",
       "      <td>NaN</td>\n",
       "      <td>NaN</td>\n",
       "      <td>NaN</td>\n",
       "      <td>NaN</td>\n",
       "      <td>NaN</td>\n",
       "      <td>...</td>\n",
       "      <td>NaN</td>\n",
       "      <td>NaN</td>\n",
       "      <td>NaN</td>\n",
       "      <td>NaN</td>\n",
       "      <td>NaN</td>\n",
       "      <td>NaN</td>\n",
       "      <td>NaN</td>\n",
       "      <td>NaN</td>\n",
       "      <td>NaN</td>\n",
       "      <td>NaN</td>\n",
       "    </tr>\n",
       "    <tr>\n",
       "      <th>25719</th>\n",
       "      <td>NaN</td>\n",
       "      <td>NaN</td>\n",
       "      <td>NaN</td>\n",
       "      <td>NaN</td>\n",
       "      <td>NaN</td>\n",
       "      <td>NaN</td>\n",
       "      <td>NaN</td>\n",
       "      <td>NaN</td>\n",
       "      <td>NaN</td>\n",
       "      <td>NaN</td>\n",
       "      <td>...</td>\n",
       "      <td>NaN</td>\n",
       "      <td>NaN</td>\n",
       "      <td>NaN</td>\n",
       "      <td>NaN</td>\n",
       "      <td>NaN</td>\n",
       "      <td>NaN</td>\n",
       "      <td>NaN</td>\n",
       "      <td>NaN</td>\n",
       "      <td>NaN</td>\n",
       "      <td>NaN</td>\n",
       "    </tr>\n",
       "    <tr>\n",
       "      <th>25720</th>\n",
       "      <td>NaN</td>\n",
       "      <td>NaN</td>\n",
       "      <td>NaN</td>\n",
       "      <td>NaN</td>\n",
       "      <td>NaN</td>\n",
       "      <td>NaN</td>\n",
       "      <td>NaN</td>\n",
       "      <td>NaN</td>\n",
       "      <td>NaN</td>\n",
       "      <td>NaN</td>\n",
       "      <td>...</td>\n",
       "      <td>NaN</td>\n",
       "      <td>NaN</td>\n",
       "      <td>NaN</td>\n",
       "      <td>NaN</td>\n",
       "      <td>NaN</td>\n",
       "      <td>NaN</td>\n",
       "      <td>NaN</td>\n",
       "      <td>NaN</td>\n",
       "      <td>NaN</td>\n",
       "      <td>NaN</td>\n",
       "    </tr>\n",
       "    <tr>\n",
       "      <th>25721</th>\n",
       "      <td>NaN</td>\n",
       "      <td>NaN</td>\n",
       "      <td>NaN</td>\n",
       "      <td>NaN</td>\n",
       "      <td>NaN</td>\n",
       "      <td>NaN</td>\n",
       "      <td>NaN</td>\n",
       "      <td>NaN</td>\n",
       "      <td>NaN</td>\n",
       "      <td>NaN</td>\n",
       "      <td>...</td>\n",
       "      <td>NaN</td>\n",
       "      <td>NaN</td>\n",
       "      <td>NaN</td>\n",
       "      <td>NaN</td>\n",
       "      <td>NaN</td>\n",
       "      <td>NaN</td>\n",
       "      <td>NaN</td>\n",
       "      <td>NaN</td>\n",
       "      <td>NaN</td>\n",
       "      <td>NaN</td>\n",
       "    </tr>\n",
       "    <tr>\n",
       "      <th>25722</th>\n",
       "      <td>xx</td>\n",
       "      <td>NaN</td>\n",
       "      <td>NaN</td>\n",
       "      <td>NaN</td>\n",
       "      <td>NaN</td>\n",
       "      <td>NaN</td>\n",
       "      <td>NaN</td>\n",
       "      <td>NaN</td>\n",
       "      <td>NaN</td>\n",
       "      <td>NaN</td>\n",
       "      <td>...</td>\n",
       "      <td>NaN</td>\n",
       "      <td>NaN</td>\n",
       "      <td>NaN</td>\n",
       "      <td>NaN</td>\n",
       "      <td>NaN</td>\n",
       "      <td>NaN</td>\n",
       "      <td>NaN</td>\n",
       "      <td>NaN</td>\n",
       "      <td>NaN</td>\n",
       "      <td>NaN</td>\n",
       "    </tr>\n",
       "  </tbody>\n",
       "</table>\n",
       "<p>25723 rows × 24 columns</p>\n",
       "</div>"
      ],
      "text/plain": [
       "      Case Number         Date    Year        Type    Country  \\\n",
       "0      2018.06.25  25-Jun-2018  2018.0     Boating        USA   \n",
       "1      2018.06.18  18-Jun-2018  2018.0  Unprovoked        USA   \n",
       "2      2018.06.09  09-Jun-2018  2018.0     Invalid        USA   \n",
       "3      2018.06.08  08-Jun-2018  2018.0  Unprovoked  AUSTRALIA   \n",
       "4      2018.06.04  04-Jun-2018  2018.0    Provoked     MEXICO   \n",
       "...           ...          ...     ...         ...        ...   \n",
       "25718         NaN          NaN     NaN         NaN        NaN   \n",
       "25719         NaN          NaN     NaN         NaN        NaN   \n",
       "25720         NaN          NaN     NaN         NaN        NaN   \n",
       "25721         NaN          NaN     NaN         NaN        NaN   \n",
       "25722          xx          NaN     NaN         NaN        NaN   \n",
       "\n",
       "                  Area                        Location     Activity  \\\n",
       "0           California     Oceanside, San Diego County     Paddling   \n",
       "1              Georgia  St. Simon Island, Glynn County     Standing   \n",
       "2               Hawaii                    Habush, Oahu      Surfing   \n",
       "3      New South Wales              Arrawarra Headland      Surfing   \n",
       "4               Colima                        La Ticla  Free diving   \n",
       "...                ...                             ...          ...   \n",
       "25718              NaN                             NaN          NaN   \n",
       "25719              NaN                             NaN          NaN   \n",
       "25720              NaN                             NaN          NaN   \n",
       "25721              NaN                             NaN          NaN   \n",
       "25722              NaN                             NaN          NaN   \n",
       "\n",
       "                  Name Sex   ...         Species   \\\n",
       "0          Julie Wolfe    F  ...      White shark   \n",
       "1      Adyson McNeely     F  ...              NaN   \n",
       "2          John Denges    M  ...              NaN   \n",
       "3                 male    M  ...        2 m shark   \n",
       "4       Gustavo Ramos     M  ...  Tiger shark, 3m   \n",
       "...                ...  ...  ...              ...   \n",
       "25718              NaN  NaN  ...              NaN   \n",
       "25719              NaN  NaN  ...              NaN   \n",
       "25720              NaN  NaN  ...              NaN   \n",
       "25721              NaN  NaN  ...              NaN   \n",
       "25722              NaN  NaN  ...              NaN   \n",
       "\n",
       "               Investigator or Source                       pdf  \\\n",
       "0                    R. Collier, GSAF      2018.06.25-Wolfe.pdf   \n",
       "1      K.McMurray, TrackingSharks.com    2018.06.18-McNeely.pdf   \n",
       "2      K.McMurray, TrackingSharks.com     2018.06.09-Denges.pdf   \n",
       "3                      B. Myatt, GSAF  2018.06.08-Arrawarra.pdf   \n",
       "4                           A .Kipper      2018.06.04-Ramos.pdf   \n",
       "...                               ...                       ...   \n",
       "25718                             NaN                       NaN   \n",
       "25719                             NaN                       NaN   \n",
       "25720                             NaN                       NaN   \n",
       "25721                             NaN                       NaN   \n",
       "25722                             NaN                       NaN   \n",
       "\n",
       "                                            href formula  \\\n",
       "0      http://sharkattackfile.net/spreadsheets/pdf_di...   \n",
       "1      http://sharkattackfile.net/spreadsheets/pdf_di...   \n",
       "2      http://sharkattackfile.net/spreadsheets/pdf_di...   \n",
       "3      http://sharkattackfile.net/spreadsheets/pdf_di...   \n",
       "4      http://sharkattackfile.net/spreadsheets/pdf_di...   \n",
       "...                                                  ...   \n",
       "25718                                                NaN   \n",
       "25719                                                NaN   \n",
       "25720                                                NaN   \n",
       "25721                                                NaN   \n",
       "25722                                                NaN   \n",
       "\n",
       "                                                    href Case Number.1  \\\n",
       "0      http://sharkattackfile.net/spreadsheets/pdf_di...    2018.06.25   \n",
       "1      http://sharkattackfile.net/spreadsheets/pdf_di...    2018.06.18   \n",
       "2      http://sharkattackfile.net/spreadsheets/pdf_di...    2018.06.09   \n",
       "3      http://sharkattackfile.net/spreadsheets/pdf_di...    2018.06.08   \n",
       "4      http://sharkattackfile.net/spreadsheets/pdf_di...    2018.06.04   \n",
       "...                                                  ...           ...   \n",
       "25718                                                NaN           NaN   \n",
       "25719                                                NaN           NaN   \n",
       "25720                                                NaN           NaN   \n",
       "25721                                                NaN           NaN   \n",
       "25722                                                NaN           NaN   \n",
       "\n",
       "      Case Number.2 original order Unnamed: 22 Unnamed: 23  \n",
       "0        2018.06.25         6303.0         NaN         NaN  \n",
       "1        2018.06.18         6302.0         NaN         NaN  \n",
       "2        2018.06.09         6301.0         NaN         NaN  \n",
       "3        2018.06.08         6300.0         NaN         NaN  \n",
       "4        2018.06.04         6299.0         NaN         NaN  \n",
       "...             ...            ...         ...         ...  \n",
       "25718           NaN            NaN         NaN         NaN  \n",
       "25719           NaN            NaN         NaN         NaN  \n",
       "25720           NaN            NaN         NaN         NaN  \n",
       "25721           NaN            NaN         NaN         NaN  \n",
       "25722           NaN            NaN         NaN         NaN  \n",
       "\n",
       "[25723 rows x 24 columns]"
      ]
     },
     "execution_count": 3,
     "metadata": {},
     "output_type": "execute_result"
    }
   ],
   "source": [
    "df"
   ]
  },
  {
   "cell_type": "code",
   "execution_count": 4,
   "metadata": {
    "ExecuteTime": {
     "end_time": "2021-01-16T04:57:36.357047Z",
     "start_time": "2021-01-16T04:57:36.336121Z"
    }
   },
   "outputs": [
    {
     "data": {
      "text/plain": [
       "(25723, 24)"
      ]
     },
     "execution_count": 4,
     "metadata": {},
     "output_type": "execute_result"
    }
   ],
   "source": [
    "df.shape"
   ]
  },
  {
   "cell_type": "code",
   "execution_count": 5,
   "metadata": {
    "ExecuteTime": {
     "end_time": "2021-01-16T04:57:39.133856Z",
     "start_time": "2021-01-16T04:57:39.123888Z"
    }
   },
   "outputs": [
    {
     "data": {
      "text/plain": [
       "Index(['Case Number', 'Date', 'Year', 'Type', 'Country', 'Area', 'Location',\n",
       "       'Activity', 'Name', 'Sex ', 'Age', 'Injury', 'Fatal (Y/N)', 'Time',\n",
       "       'Species ', 'Investigator or Source', 'pdf', 'href formula', 'href',\n",
       "       'Case Number.1', 'Case Number.2', 'original order', 'Unnamed: 22',\n",
       "       'Unnamed: 23'],\n",
       "      dtype='object')"
      ]
     },
     "execution_count": 5,
     "metadata": {},
     "output_type": "execute_result"
    }
   ],
   "source": [
    "df.columns"
   ]
  },
  {
   "cell_type": "code",
   "execution_count": 6,
   "metadata": {
    "ExecuteTime": {
     "end_time": "2021-01-16T04:57:42.108870Z",
     "start_time": "2021-01-16T04:57:42.051563Z"
    }
   },
   "outputs": [
    {
     "name": "stdout",
     "output_type": "stream",
     "text": [
      "<class 'pandas.core.frame.DataFrame'>\n",
      "RangeIndex: 25723 entries, 0 to 25722\n",
      "Data columns (total 24 columns):\n",
      " #   Column                  Non-Null Count  Dtype  \n",
      "---  ------                  --------------  -----  \n",
      " 0   Case Number             8702 non-null   object \n",
      " 1   Date                    6302 non-null   object \n",
      " 2   Year                    6300 non-null   float64\n",
      " 3   Type                    6298 non-null   object \n",
      " 4   Country                 6252 non-null   object \n",
      " 5   Area                    5847 non-null   object \n",
      " 6   Location                5762 non-null   object \n",
      " 7   Activity                5758 non-null   object \n",
      " 8   Name                    6092 non-null   object \n",
      " 9   Sex                     5737 non-null   object \n",
      " 10  Age                     3471 non-null   object \n",
      " 11  Injury                  6274 non-null   object \n",
      " 12  Fatal (Y/N)             5763 non-null   object \n",
      " 13  Time                    2948 non-null   object \n",
      " 14  Species                 3464 non-null   object \n",
      " 15  Investigator or Source  6285 non-null   object \n",
      " 16  pdf                     6302 non-null   object \n",
      " 17  href formula            6301 non-null   object \n",
      " 18  href                    6302 non-null   object \n",
      " 19  Case Number.1           6302 non-null   object \n",
      " 20  Case Number.2           6302 non-null   object \n",
      " 21  original order          6309 non-null   float64\n",
      " 22  Unnamed: 22             1 non-null      object \n",
      " 23  Unnamed: 23             2 non-null      object \n",
      "dtypes: float64(2), object(22)\n",
      "memory usage: 4.7+ MB\n"
     ]
    }
   ],
   "source": [
    "df.info()"
   ]
  },
  {
   "cell_type": "code",
   "execution_count": 7,
   "metadata": {
    "ExecuteTime": {
     "end_time": "2021-01-16T04:57:45.037512Z",
     "start_time": "2021-01-16T04:57:44.955389Z"
    }
   },
   "outputs": [
    {
     "data": {
      "text/plain": [
       "Case Number               17021\n",
       "Date                      19421\n",
       "Year                      19423\n",
       "Type                      19425\n",
       "Country                   19471\n",
       "Area                      19876\n",
       "Location                  19961\n",
       "Activity                  19965\n",
       "Name                      19631\n",
       "Sex                       19986\n",
       "Age                       22252\n",
       "Injury                    19449\n",
       "Fatal (Y/N)               19960\n",
       "Time                      22775\n",
       "Species                   22259\n",
       "Investigator or Source    19438\n",
       "pdf                       19421\n",
       "href formula              19422\n",
       "href                      19421\n",
       "Case Number.1             19421\n",
       "Case Number.2             19421\n",
       "original order            19414\n",
       "Unnamed: 22               25722\n",
       "Unnamed: 23               25721\n",
       "dtype: int64"
      ]
     },
     "execution_count": 7,
     "metadata": {},
     "output_type": "execute_result"
    }
   ],
   "source": [
    "df.isnull().sum()"
   ]
  },
  {
   "cell_type": "code",
   "execution_count": 8,
   "metadata": {
    "ExecuteTime": {
     "end_time": "2021-01-16T04:57:47.688667Z",
     "start_time": "2021-01-16T04:57:47.652134Z"
    }
   },
   "outputs": [
    {
     "data": {
      "text/html": [
       "<div>\n",
       "<style scoped>\n",
       "    .dataframe tbody tr th:only-of-type {\n",
       "        vertical-align: middle;\n",
       "    }\n",
       "\n",
       "    .dataframe tbody tr th {\n",
       "        vertical-align: top;\n",
       "    }\n",
       "\n",
       "    .dataframe thead th {\n",
       "        text-align: right;\n",
       "    }\n",
       "</style>\n",
       "<table border=\"1\" class=\"dataframe\">\n",
       "  <thead>\n",
       "    <tr style=\"text-align: right;\">\n",
       "      <th></th>\n",
       "      <th>Case Number.1</th>\n",
       "      <th>Case Number.2</th>\n",
       "      <th>original order</th>\n",
       "      <th>Unnamed: 22</th>\n",
       "      <th>Unnamed: 23</th>\n",
       "    </tr>\n",
       "  </thead>\n",
       "  <tbody>\n",
       "    <tr>\n",
       "      <th>0</th>\n",
       "      <td>2018.06.25</td>\n",
       "      <td>2018.06.25</td>\n",
       "      <td>6303.0</td>\n",
       "      <td>NaN</td>\n",
       "      <td>NaN</td>\n",
       "    </tr>\n",
       "    <tr>\n",
       "      <th>1</th>\n",
       "      <td>2018.06.18</td>\n",
       "      <td>2018.06.18</td>\n",
       "      <td>6302.0</td>\n",
       "      <td>NaN</td>\n",
       "      <td>NaN</td>\n",
       "    </tr>\n",
       "    <tr>\n",
       "      <th>2</th>\n",
       "      <td>2018.06.09</td>\n",
       "      <td>2018.06.09</td>\n",
       "      <td>6301.0</td>\n",
       "      <td>NaN</td>\n",
       "      <td>NaN</td>\n",
       "    </tr>\n",
       "    <tr>\n",
       "      <th>3</th>\n",
       "      <td>2018.06.08</td>\n",
       "      <td>2018.06.08</td>\n",
       "      <td>6300.0</td>\n",
       "      <td>NaN</td>\n",
       "      <td>NaN</td>\n",
       "    </tr>\n",
       "    <tr>\n",
       "      <th>4</th>\n",
       "      <td>2018.06.04</td>\n",
       "      <td>2018.06.04</td>\n",
       "      <td>6299.0</td>\n",
       "      <td>NaN</td>\n",
       "      <td>NaN</td>\n",
       "    </tr>\n",
       "  </tbody>\n",
       "</table>\n",
       "</div>"
      ],
      "text/plain": [
       "  Case Number.1 Case Number.2  original order Unnamed: 22 Unnamed: 23\n",
       "0    2018.06.25    2018.06.25          6303.0         NaN         NaN\n",
       "1    2018.06.18    2018.06.18          6302.0         NaN         NaN\n",
       "2    2018.06.09    2018.06.09          6301.0         NaN         NaN\n",
       "3    2018.06.08    2018.06.08          6300.0         NaN         NaN\n",
       "4    2018.06.04    2018.06.04          6299.0         NaN         NaN"
      ]
     },
     "execution_count": 8,
     "metadata": {},
     "output_type": "execute_result"
    }
   ],
   "source": [
    "# O que as últimas colunas contem?\n",
    "df[['Case Number.1', 'Case Number.2', 'original order', 'Unnamed: 22', 'Unnamed: 23']].head()"
   ]
  },
  {
   "cell_type": "code",
   "execution_count": 9,
   "metadata": {
    "ExecuteTime": {
     "end_time": "2021-01-16T04:57:50.496195Z",
     "start_time": "2021-01-16T04:57:50.485490Z"
    }
   },
   "outputs": [],
   "source": [
    "# Essas colunas não contém informações relevantes para a minha análise e podem ser removidas"
   ]
  },
  {
   "cell_type": "code",
   "execution_count": 10,
   "metadata": {
    "ExecuteTime": {
     "end_time": "2021-01-16T04:57:53.699081Z",
     "start_time": "2021-01-16T04:57:53.559432Z"
    }
   },
   "outputs": [
    {
     "name": "stdout",
     "output_type": "stream",
     "text": [
      "Linhas duplicadas:\n",
      "19411\n"
     ]
    }
   ],
   "source": [
    "# Existem linhas duplicadas?\n",
    "print('Linhas duplicadas:' )\n",
    "print(df.duplicated().sum())"
   ]
  },
  {
   "cell_type": "code",
   "execution_count": null,
   "metadata": {},
   "outputs": [],
   "source": []
  },
  {
   "cell_type": "markdown",
   "metadata": {},
   "source": [
    "# Limpeza"
   ]
  },
  {
   "cell_type": "markdown",
   "metadata": {},
   "source": [
    "## Remover duplicatas"
   ]
  },
  {
   "cell_type": "code",
   "execution_count": 11,
   "metadata": {
    "ExecuteTime": {
     "end_time": "2021-01-16T04:57:59.121234Z",
     "start_time": "2021-01-16T04:57:59.027404Z"
    }
   },
   "outputs": [
    {
     "name": "stdout",
     "output_type": "stream",
     "text": [
      "Número de duplicatas removidas:  19411\n"
     ]
    }
   ],
   "source": [
    "shark_attack = df.drop_duplicates()\n",
    "print('Número de duplicatas removidas: ', len(df) - len(shark_attack))"
   ]
  },
  {
   "cell_type": "code",
   "execution_count": 12,
   "metadata": {
    "ExecuteTime": {
     "end_time": "2021-01-16T04:58:05.512873Z",
     "start_time": "2021-01-16T04:58:05.504230Z"
    }
   },
   "outputs": [
    {
     "data": {
      "text/plain": [
       "(6312, 24)"
      ]
     },
     "execution_count": 12,
     "metadata": {},
     "output_type": "execute_result"
    }
   ],
   "source": [
    "shark_attack.shape"
   ]
  },
  {
   "cell_type": "markdown",
   "metadata": {},
   "source": [
    "## Remover colunas irrelevantes"
   ]
  },
  {
   "cell_type": "code",
   "execution_count": 13,
   "metadata": {
    "ExecuteTime": {
     "end_time": "2021-01-16T04:58:10.310845Z",
     "start_time": "2021-01-16T04:58:10.295818Z"
    }
   },
   "outputs": [],
   "source": [
    "shark_attack = shark_attack.drop(['Case Number', 'Date','Location','Name','Sex ','Age','Time', 'Species ','Investigator or Source', 'pdf', 'href formula', 'href','Case Number.1', 'Case Number.2', 'original order', 'Unnamed: 22', 'Unnamed: 23'], axis =1)"
   ]
  },
  {
   "cell_type": "code",
   "execution_count": 14,
   "metadata": {
    "ExecuteTime": {
     "end_time": "2021-01-16T04:58:13.788069Z",
     "start_time": "2021-01-16T04:58:13.764997Z"
    }
   },
   "outputs": [
    {
     "data": {
      "text/plain": [
       "Index(['Year', 'Type', 'Country', 'Area', 'Activity', 'Injury', 'Fatal (Y/N)'], dtype='object')"
      ]
     },
     "execution_count": 14,
     "metadata": {},
     "output_type": "execute_result"
    }
   ],
   "source": [
    "shark_attack.columns"
   ]
  },
  {
   "cell_type": "code",
   "execution_count": 15,
   "metadata": {
    "ExecuteTime": {
     "end_time": "2021-01-16T04:58:17.504250Z",
     "start_time": "2021-01-16T04:58:17.442309Z"
    }
   },
   "outputs": [],
   "source": [
    "shark_attack.loc[:, \"Country\":\"Activity\"] = shark_attack.loc[:, \"Country\":\"Activity\"].transform(lambda series: series.str.strip().str.title())"
   ]
  },
  {
   "cell_type": "code",
   "execution_count": 16,
   "metadata": {
    "ExecuteTime": {
     "end_time": "2021-01-16T04:58:20.909370Z",
     "start_time": "2021-01-16T04:58:20.861293Z"
    }
   },
   "outputs": [
    {
     "data": {
      "text/html": [
       "<div>\n",
       "<style scoped>\n",
       "    .dataframe tbody tr th:only-of-type {\n",
       "        vertical-align: middle;\n",
       "    }\n",
       "\n",
       "    .dataframe tbody tr th {\n",
       "        vertical-align: top;\n",
       "    }\n",
       "\n",
       "    .dataframe thead th {\n",
       "        text-align: right;\n",
       "    }\n",
       "</style>\n",
       "<table border=\"1\" class=\"dataframe\">\n",
       "  <thead>\n",
       "    <tr style=\"text-align: right;\">\n",
       "      <th></th>\n",
       "      <th>Year</th>\n",
       "      <th>Type</th>\n",
       "      <th>Country</th>\n",
       "      <th>Area</th>\n",
       "      <th>Activity</th>\n",
       "      <th>Injury</th>\n",
       "      <th>Fatal (Y/N)</th>\n",
       "    </tr>\n",
       "  </thead>\n",
       "  <tbody>\n",
       "    <tr>\n",
       "      <th>0</th>\n",
       "      <td>2018.0</td>\n",
       "      <td>Boating</td>\n",
       "      <td>Usa</td>\n",
       "      <td>California</td>\n",
       "      <td>Paddling</td>\n",
       "      <td>No injury to occupant, outrigger canoe and pad...</td>\n",
       "      <td>N</td>\n",
       "    </tr>\n",
       "    <tr>\n",
       "      <th>1</th>\n",
       "      <td>2018.0</td>\n",
       "      <td>Unprovoked</td>\n",
       "      <td>Usa</td>\n",
       "      <td>Georgia</td>\n",
       "      <td>Standing</td>\n",
       "      <td>Minor injury to left thigh</td>\n",
       "      <td>N</td>\n",
       "    </tr>\n",
       "    <tr>\n",
       "      <th>2</th>\n",
       "      <td>2018.0</td>\n",
       "      <td>Invalid</td>\n",
       "      <td>Usa</td>\n",
       "      <td>Hawaii</td>\n",
       "      <td>Surfing</td>\n",
       "      <td>Injury to left lower leg from surfboard skeg</td>\n",
       "      <td>N</td>\n",
       "    </tr>\n",
       "    <tr>\n",
       "      <th>3</th>\n",
       "      <td>2018.0</td>\n",
       "      <td>Unprovoked</td>\n",
       "      <td>Australia</td>\n",
       "      <td>New South Wales</td>\n",
       "      <td>Surfing</td>\n",
       "      <td>Minor injury to lower leg</td>\n",
       "      <td>N</td>\n",
       "    </tr>\n",
       "    <tr>\n",
       "      <th>4</th>\n",
       "      <td>2018.0</td>\n",
       "      <td>Provoked</td>\n",
       "      <td>Mexico</td>\n",
       "      <td>Colima</td>\n",
       "      <td>Free Diving</td>\n",
       "      <td>Lacerations to leg &amp; hand shark PROVOKED INCIDENT</td>\n",
       "      <td>N</td>\n",
       "    </tr>\n",
       "    <tr>\n",
       "      <th>5</th>\n",
       "      <td>2018.0</td>\n",
       "      <td>Unprovoked</td>\n",
       "      <td>Australia</td>\n",
       "      <td>New South Wales</td>\n",
       "      <td>Kite Surfing</td>\n",
       "      <td>No injury, board bitten</td>\n",
       "      <td>N</td>\n",
       "    </tr>\n",
       "    <tr>\n",
       "      <th>6</th>\n",
       "      <td>2018.0</td>\n",
       "      <td>Unprovoked</td>\n",
       "      <td>Brazil</td>\n",
       "      <td>Pernambuco</td>\n",
       "      <td>Swimming</td>\n",
       "      <td>FATAL</td>\n",
       "      <td>Y</td>\n",
       "    </tr>\n",
       "    <tr>\n",
       "      <th>7</th>\n",
       "      <td>2018.0</td>\n",
       "      <td>Unprovoked</td>\n",
       "      <td>Usa</td>\n",
       "      <td>Florida</td>\n",
       "      <td>Fishing</td>\n",
       "      <td>Minor injury to foot. PROVOKED INCIDENT</td>\n",
       "      <td>N</td>\n",
       "    </tr>\n",
       "    <tr>\n",
       "      <th>8</th>\n",
       "      <td>2018.0</td>\n",
       "      <td>Unprovoked</td>\n",
       "      <td>Usa</td>\n",
       "      <td>Florida</td>\n",
       "      <td>Walking</td>\n",
       "      <td>Lower left leg bitten</td>\n",
       "      <td>N</td>\n",
       "    </tr>\n",
       "    <tr>\n",
       "      <th>9</th>\n",
       "      <td>2018.0</td>\n",
       "      <td>Unprovoked</td>\n",
       "      <td>Usa</td>\n",
       "      <td>Florida</td>\n",
       "      <td>Standing</td>\n",
       "      <td>Minor injury to foot</td>\n",
       "      <td>N</td>\n",
       "    </tr>\n",
       "  </tbody>\n",
       "</table>\n",
       "</div>"
      ],
      "text/plain": [
       "     Year        Type    Country             Area      Activity  \\\n",
       "0  2018.0     Boating        Usa       California      Paddling   \n",
       "1  2018.0  Unprovoked        Usa          Georgia      Standing   \n",
       "2  2018.0     Invalid        Usa           Hawaii       Surfing   \n",
       "3  2018.0  Unprovoked  Australia  New South Wales       Surfing   \n",
       "4  2018.0    Provoked     Mexico           Colima   Free Diving   \n",
       "5  2018.0  Unprovoked  Australia  New South Wales  Kite Surfing   \n",
       "6  2018.0  Unprovoked     Brazil       Pernambuco      Swimming   \n",
       "7  2018.0  Unprovoked        Usa          Florida       Fishing   \n",
       "8  2018.0  Unprovoked        Usa          Florida       Walking   \n",
       "9  2018.0  Unprovoked        Usa          Florida      Standing   \n",
       "\n",
       "                                              Injury Fatal (Y/N)  \n",
       "0  No injury to occupant, outrigger canoe and pad...           N  \n",
       "1                         Minor injury to left thigh           N  \n",
       "2       Injury to left lower leg from surfboard skeg           N  \n",
       "3                          Minor injury to lower leg           N  \n",
       "4  Lacerations to leg & hand shark PROVOKED INCIDENT           N  \n",
       "5                            No injury, board bitten           N  \n",
       "6                                              FATAL           Y  \n",
       "7            Minor injury to foot. PROVOKED INCIDENT           N  \n",
       "8                              Lower left leg bitten           N  \n",
       "9                               Minor injury to foot           N  "
      ]
     },
     "execution_count": 16,
     "metadata": {},
     "output_type": "execute_result"
    }
   ],
   "source": [
    "shark_attack.head(10)"
   ]
  },
  {
   "cell_type": "code",
   "execution_count": 17,
   "metadata": {
    "ExecuteTime": {
     "end_time": "2021-01-16T04:58:24.319211Z",
     "start_time": "2021-01-16T04:58:24.293293Z"
    }
   },
   "outputs": [],
   "source": [
    "shark_attack = shark_attack.rename(columns={'Fatal (Y/N)': 'Fatal'})"
   ]
  },
  {
   "cell_type": "code",
   "execution_count": 18,
   "metadata": {
    "ExecuteTime": {
     "end_time": "2021-01-16T04:58:28.090347Z",
     "start_time": "2021-01-16T04:58:28.057855Z"
    }
   },
   "outputs": [
    {
     "name": "stdout",
     "output_type": "stream",
     "text": [
      "<class 'pandas.core.frame.DataFrame'>\n",
      "Int64Index: 6312 entries, 0 to 25722\n",
      "Data columns (total 7 columns):\n",
      " #   Column    Non-Null Count  Dtype  \n",
      "---  ------    --------------  -----  \n",
      " 0   Year      6300 non-null   float64\n",
      " 1   Type      6298 non-null   object \n",
      " 2   Country   6252 non-null   object \n",
      " 3   Area      5847 non-null   object \n",
      " 4   Activity  5758 non-null   object \n",
      " 5   Injury    6274 non-null   object \n",
      " 6   Fatal     5763 non-null   object \n",
      "dtypes: float64(1), object(6)\n",
      "memory usage: 394.5+ KB\n"
     ]
    }
   ],
   "source": [
    "shark_attack.info()"
   ]
  },
  {
   "cell_type": "code",
   "execution_count": 19,
   "metadata": {
    "ExecuteTime": {
     "end_time": "2021-01-16T04:58:31.765614Z",
     "start_time": "2021-01-16T04:58:31.729571Z"
    },
    "scrolled": true
   },
   "outputs": [
    {
     "data": {
      "text/plain": [
       "Year         12\n",
       "Type         14\n",
       "Country      60\n",
       "Area        465\n",
       "Activity    554\n",
       "Injury       38\n",
       "Fatal       549\n",
       "dtype: int64"
      ]
     },
     "execution_count": 19,
     "metadata": {},
     "output_type": "execute_result"
    }
   ],
   "source": [
    "shark_attack.isnull().sum()"
   ]
  },
  {
   "cell_type": "markdown",
   "metadata": {},
   "source": [
    "## Coluna Year"
   ]
  },
  {
   "cell_type": "code",
   "execution_count": 20,
   "metadata": {
    "ExecuteTime": {
     "end_time": "2021-01-16T04:58:35.520854Z",
     "start_time": "2021-01-16T04:58:35.492855Z"
    }
   },
   "outputs": [
    {
     "data": {
      "text/plain": [
       "array([2018., 2017.,   nan, 2016., 2015., 2014., 2013., 2012., 2011.,\n",
       "       2010., 2009., 2008., 2007., 2006., 2005., 2004., 2003., 2002.,\n",
       "       2001., 2000., 1999., 1998., 1997., 1996., 1995., 1984., 1994.,\n",
       "       1993., 1992., 1991., 1990., 1989., 1969., 1988., 1987., 1986.,\n",
       "       1985., 1983., 1982., 1981., 1980., 1979., 1978., 1977., 1976.,\n",
       "       1975., 1974., 1973., 1972., 1971., 1970., 1968., 1967., 1966.,\n",
       "       1965., 1964., 1963., 1962., 1961., 1960., 1959., 1958., 1957.,\n",
       "       1956., 1955., 1954., 1953., 1952., 1951., 1950., 1949., 1948.,\n",
       "       1848., 1947., 1946., 1945., 1944., 1943., 1942., 1941., 1940.,\n",
       "       1939., 1938., 1937., 1936., 1935., 1934., 1933., 1932., 1931.,\n",
       "       1930., 1929., 1928., 1927., 1926., 1925., 1924., 1923., 1922.,\n",
       "       1921., 1920., 1919., 1918., 1917., 1916., 1915., 1914., 1913.,\n",
       "       1912., 1911., 1910., 1909., 1908., 1907., 1906., 1905., 1904.,\n",
       "       1903., 1902., 1901., 1900., 1899., 1898., 1897., 1896., 1895.,\n",
       "       1894., 1893., 1892., 1891., 1890., 1889., 1888., 1887., 1886.,\n",
       "       1885., 1884., 1883., 1882., 1881., 1880., 1879., 1878., 1877.,\n",
       "       1876., 1875., 1874., 1873., 1872., 1871., 1870., 1869., 1868.,\n",
       "       1867., 1866., 1865., 1864., 1863., 1862., 1861., 1860., 1859.,\n",
       "       1858., 1857., 1856., 1855., 1853., 1852., 1851., 1850., 1849.,\n",
       "       1847., 1846., 1845., 1844., 1842., 1841., 1840., 1839., 1837.,\n",
       "       1836., 1835., 1834., 1832., 1831., 1830., 1829., 1828., 1827.,\n",
       "       1826., 1825., 1823., 1822., 1819., 1818., 1817., 1816., 1815.,\n",
       "       1812., 1811., 1810., 1808., 1807., 1805., 1804., 1803., 1802.,\n",
       "       1801., 1800., 1797., 1792., 1791., 1788., 1787., 1786., 1785.,\n",
       "       1784., 1783., 1780., 1779., 1776., 1771., 1767., 1764., 1758.,\n",
       "       1753., 1751., 1749., 1755., 1748., 1742., 1738., 1733., 1723.,\n",
       "       1721., 1703., 1700., 1642., 1638., 1637., 1617., 1595., 1580.,\n",
       "       1555., 1554., 1543.,  500.,   77.,    5.,    0.])"
      ]
     },
     "execution_count": 20,
     "metadata": {},
     "output_type": "execute_result"
    }
   ],
   "source": [
    "shark_attack['Year'].unique()"
   ]
  },
  {
   "cell_type": "code",
   "execution_count": 21,
   "metadata": {
    "ExecuteTime": {
     "end_time": "2021-01-16T04:58:38.692749Z",
     "start_time": "2021-01-16T04:58:38.682263Z"
    }
   },
   "outputs": [
    {
     "data": {
      "text/plain": [
       "12"
      ]
     },
     "execution_count": 21,
     "metadata": {},
     "output_type": "execute_result"
    }
   ],
   "source": [
    "shark_attack.Year.isnull().sum()"
   ]
  },
  {
   "cell_type": "code",
   "execution_count": 22,
   "metadata": {
    "ExecuteTime": {
     "end_time": "2021-01-16T04:58:42.452485Z",
     "start_time": "2021-01-16T04:58:42.433466Z"
    }
   },
   "outputs": [],
   "source": [
    "shark_attack = shark_attack.dropna(subset=['Year'])"
   ]
  },
  {
   "cell_type": "code",
   "execution_count": 23,
   "metadata": {
    "ExecuteTime": {
     "end_time": "2021-01-16T04:58:45.592580Z",
     "start_time": "2021-01-16T04:58:45.573232Z"
    }
   },
   "outputs": [
    {
     "data": {
      "text/plain": [
       "0"
      ]
     },
     "execution_count": 23,
     "metadata": {},
     "output_type": "execute_result"
    }
   ],
   "source": [
    "shark_attack.Year.isnull().sum()"
   ]
  },
  {
   "cell_type": "code",
   "execution_count": 24,
   "metadata": {
    "ExecuteTime": {
     "end_time": "2021-01-16T04:58:49.142090Z",
     "start_time": "2021-01-16T04:58:49.114782Z"
    }
   },
   "outputs": [
    {
     "data": {
      "text/plain": [
       "array([2018, 2017, 2016, 2015, 2014, 2013, 2012, 2011, 2010, 2009, 2008,\n",
       "       2007, 2006, 2005, 2004, 2003, 2002, 2001, 2000, 1999, 1998, 1997,\n",
       "       1996, 1995, 1984, 1994, 1993, 1992, 1991, 1990, 1989, 1969, 1988,\n",
       "       1987, 1986, 1985, 1983, 1982, 1981, 1980, 1979, 1978, 1977, 1976,\n",
       "       1975, 1974, 1973, 1972, 1971, 1970, 1968, 1967, 1966, 1965, 1964,\n",
       "       1963, 1962, 1961, 1960, 1959, 1958, 1957, 1956, 1955, 1954, 1953,\n",
       "       1952, 1951, 1950, 1949, 1948, 1848, 1947, 1946, 1945, 1944, 1943,\n",
       "       1942, 1941, 1940, 1939, 1938, 1937, 1936, 1935, 1934, 1933, 1932,\n",
       "       1931, 1930, 1929, 1928, 1927, 1926, 1925, 1924, 1923, 1922, 1921,\n",
       "       1920, 1919, 1918, 1917, 1916, 1915, 1914, 1913, 1912, 1911, 1910,\n",
       "       1909, 1908, 1907, 1906, 1905, 1904, 1903, 1902, 1901, 1900, 1899,\n",
       "       1898, 1897, 1896, 1895, 1894, 1893, 1892, 1891, 1890, 1889, 1888,\n",
       "       1887, 1886, 1885, 1884, 1883, 1882, 1881, 1880, 1879, 1878, 1877,\n",
       "       1876, 1875, 1874, 1873, 1872, 1871, 1870, 1869, 1868, 1867, 1866,\n",
       "       1865, 1864, 1863, 1862, 1861, 1860, 1859, 1858, 1857, 1856, 1855,\n",
       "       1853, 1852, 1851, 1850, 1849, 1847, 1846, 1845, 1844, 1842, 1841,\n",
       "       1840, 1839, 1837, 1836, 1835, 1834, 1832, 1831, 1830, 1829, 1828,\n",
       "       1827, 1826, 1825, 1823, 1822, 1819, 1818, 1817, 1816, 1815, 1812,\n",
       "       1811, 1810, 1808, 1807, 1805, 1804, 1803, 1802, 1801, 1800, 1797,\n",
       "       1792, 1791, 1788, 1787, 1786, 1785, 1784, 1783, 1780, 1779, 1776,\n",
       "       1771, 1767, 1764, 1758, 1753, 1751, 1749, 1755, 1748, 1742, 1738,\n",
       "       1733, 1723, 1721, 1703, 1700, 1642, 1638, 1637, 1617, 1595, 1580,\n",
       "       1555, 1554, 1543,  500,   77,    5,    0], dtype=int64)"
      ]
     },
     "execution_count": 24,
     "metadata": {},
     "output_type": "execute_result"
    }
   ],
   "source": [
    "shark_attack.Year = shark_attack.Year.astype(np.int64)\n",
    "shark_attack['Year'].unique()"
   ]
  },
  {
   "cell_type": "code",
   "execution_count": 25,
   "metadata": {
    "ExecuteTime": {
     "end_time": "2021-01-16T04:58:52.242340Z",
     "start_time": "2021-01-16T04:58:52.192586Z"
    }
   },
   "outputs": [
    {
     "data": {
      "text/html": [
       "<div>\n",
       "<style scoped>\n",
       "    .dataframe tbody tr th:only-of-type {\n",
       "        vertical-align: middle;\n",
       "    }\n",
       "\n",
       "    .dataframe tbody tr th {\n",
       "        vertical-align: top;\n",
       "    }\n",
       "\n",
       "    .dataframe thead th {\n",
       "        text-align: right;\n",
       "    }\n",
       "</style>\n",
       "<table border=\"1\" class=\"dataframe\">\n",
       "  <thead>\n",
       "    <tr style=\"text-align: right;\">\n",
       "      <th></th>\n",
       "      <th>Year</th>\n",
       "      <th>Type</th>\n",
       "      <th>Country</th>\n",
       "      <th>Area</th>\n",
       "      <th>Activity</th>\n",
       "      <th>Injury</th>\n",
       "      <th>Fatal</th>\n",
       "    </tr>\n",
       "  </thead>\n",
       "  <tbody>\n",
       "    <tr>\n",
       "      <th>0</th>\n",
       "      <td>2018</td>\n",
       "      <td>Boating</td>\n",
       "      <td>Usa</td>\n",
       "      <td>California</td>\n",
       "      <td>Paddling</td>\n",
       "      <td>No injury to occupant, outrigger canoe and pad...</td>\n",
       "      <td>N</td>\n",
       "    </tr>\n",
       "    <tr>\n",
       "      <th>1</th>\n",
       "      <td>2018</td>\n",
       "      <td>Unprovoked</td>\n",
       "      <td>Usa</td>\n",
       "      <td>Georgia</td>\n",
       "      <td>Standing</td>\n",
       "      <td>Minor injury to left thigh</td>\n",
       "      <td>N</td>\n",
       "    </tr>\n",
       "    <tr>\n",
       "      <th>2</th>\n",
       "      <td>2018</td>\n",
       "      <td>Invalid</td>\n",
       "      <td>Usa</td>\n",
       "      <td>Hawaii</td>\n",
       "      <td>Surfing</td>\n",
       "      <td>Injury to left lower leg from surfboard skeg</td>\n",
       "      <td>N</td>\n",
       "    </tr>\n",
       "    <tr>\n",
       "      <th>3</th>\n",
       "      <td>2018</td>\n",
       "      <td>Unprovoked</td>\n",
       "      <td>Australia</td>\n",
       "      <td>New South Wales</td>\n",
       "      <td>Surfing</td>\n",
       "      <td>Minor injury to lower leg</td>\n",
       "      <td>N</td>\n",
       "    </tr>\n",
       "    <tr>\n",
       "      <th>4</th>\n",
       "      <td>2018</td>\n",
       "      <td>Provoked</td>\n",
       "      <td>Mexico</td>\n",
       "      <td>Colima</td>\n",
       "      <td>Free Diving</td>\n",
       "      <td>Lacerations to leg &amp; hand shark PROVOKED INCIDENT</td>\n",
       "      <td>N</td>\n",
       "    </tr>\n",
       "    <tr>\n",
       "      <th>...</th>\n",
       "      <td>...</td>\n",
       "      <td>...</td>\n",
       "      <td>...</td>\n",
       "      <td>...</td>\n",
       "      <td>...</td>\n",
       "      <td>...</td>\n",
       "      <td>...</td>\n",
       "    </tr>\n",
       "    <tr>\n",
       "      <th>3488</th>\n",
       "      <td>1968</td>\n",
       "      <td>Unprovoked</td>\n",
       "      <td>Papua New Guinea</td>\n",
       "      <td>Morobe Province</td>\n",
       "      <td>Swimming</td>\n",
       "      <td>FATAL</td>\n",
       "      <td>Y</td>\n",
       "    </tr>\n",
       "    <tr>\n",
       "      <th>3489</th>\n",
       "      <td>1968</td>\n",
       "      <td>Unprovoked</td>\n",
       "      <td>Costa Rica</td>\n",
       "      <td>Limón Province</td>\n",
       "      <td>Swimming After His Canoe Capsized</td>\n",
       "      <td>FATAL</td>\n",
       "      <td>Y</td>\n",
       "    </tr>\n",
       "    <tr>\n",
       "      <th>3490</th>\n",
       "      <td>1968</td>\n",
       "      <td>Invalid</td>\n",
       "      <td>Usa</td>\n",
       "      <td>Florida</td>\n",
       "      <td>Diving</td>\n",
       "      <td>Recovered, said to involve a 1m nurse shark</td>\n",
       "      <td>NaN</td>\n",
       "    </tr>\n",
       "    <tr>\n",
       "      <th>3491</th>\n",
       "      <td>1968</td>\n",
       "      <td>Invalid</td>\n",
       "      <td>Usa</td>\n",
       "      <td>Florida</td>\n",
       "      <td>Surfing</td>\n",
       "      <td>NaN</td>\n",
       "      <td>NaN</td>\n",
       "    </tr>\n",
       "    <tr>\n",
       "      <th>3888</th>\n",
       "      <td>1971</td>\n",
       "      <td>Unprovoked</td>\n",
       "      <td>Turkey</td>\n",
       "      <td>Anatolia</td>\n",
       "      <td>Swimming</td>\n",
       "      <td>Left leg injured</td>\n",
       "      <td>N</td>\n",
       "    </tr>\n",
       "  </tbody>\n",
       "</table>\n",
       "<p>3492 rows × 7 columns</p>\n",
       "</div>"
      ],
      "text/plain": [
       "      Year        Type           Country             Area  \\\n",
       "0     2018     Boating               Usa       California   \n",
       "1     2018  Unprovoked               Usa          Georgia   \n",
       "2     2018     Invalid               Usa           Hawaii   \n",
       "3     2018  Unprovoked         Australia  New South Wales   \n",
       "4     2018    Provoked            Mexico           Colima   \n",
       "...    ...         ...               ...              ...   \n",
       "3488  1968  Unprovoked  Papua New Guinea  Morobe Province   \n",
       "3489  1968  Unprovoked        Costa Rica   Limón Province   \n",
       "3490  1968     Invalid               Usa          Florida   \n",
       "3491  1968     Invalid               Usa          Florida   \n",
       "3888  1971  Unprovoked            Turkey         Anatolia   \n",
       "\n",
       "                               Activity  \\\n",
       "0                              Paddling   \n",
       "1                              Standing   \n",
       "2                               Surfing   \n",
       "3                               Surfing   \n",
       "4                           Free Diving   \n",
       "...                                 ...   \n",
       "3488                           Swimming   \n",
       "3489  Swimming After His Canoe Capsized   \n",
       "3490                             Diving   \n",
       "3491                            Surfing   \n",
       "3888                           Swimming   \n",
       "\n",
       "                                                 Injury Fatal  \n",
       "0     No injury to occupant, outrigger canoe and pad...     N  \n",
       "1                            Minor injury to left thigh     N  \n",
       "2          Injury to left lower leg from surfboard skeg     N  \n",
       "3                             Minor injury to lower leg     N  \n",
       "4     Lacerations to leg & hand shark PROVOKED INCIDENT     N  \n",
       "...                                                 ...   ...  \n",
       "3488                                              FATAL     Y  \n",
       "3489                                              FATAL     Y  \n",
       "3490        Recovered, said to involve a 1m nurse shark   NaN  \n",
       "3491                                                NaN   NaN  \n",
       "3888                                   Left leg injured     N  \n",
       "\n",
       "[3492 rows x 7 columns]"
      ]
     },
     "execution_count": 25,
     "metadata": {},
     "output_type": "execute_result"
    }
   ],
   "source": [
    "shark_attack = shark_attack[shark_attack['Year'] > 1967] \n",
    "\n",
    "shark_attack"
   ]
  },
  {
   "cell_type": "markdown",
   "metadata": {},
   "source": [
    "## Coluna Activity"
   ]
  },
  {
   "cell_type": "code",
   "execution_count": 26,
   "metadata": {
    "ExecuteTime": {
     "end_time": "2021-01-16T04:58:55.924627Z",
     "start_time": "2021-01-16T04:58:55.898035Z"
    }
   },
   "outputs": [
    {
     "data": {
      "text/plain": [
       "array(['Paddling', 'Standing', 'Surfing', 'Free Diving', 'Kite Surfing',\n",
       "       'Swimming', 'Fishing', 'Walking', 'Feeding Sharks',\n",
       "       'Boogie Boarding', 'Scuba Diving', 'Paddle-Skiing',\n",
       "       'Body Boarding', 'Windsurfing', 'Stand-Up Paddleboarding',\n",
       "       'Wading', 'Kayak Fishing For Sharks', 'Cleaning Fish',\n",
       "       'Snorkeling', 'Spearfishing', nan, 'Diving', 'Fishing / Wading',\n",
       "       '2 Boats Capsized', 'Night Bathing', 'Kayaking / Fishing',\n",
       "       'Kayaking', 'Body Surfing', 'Swimming, Poaching Abalone',\n",
       "       'Canoeing', 'Sup', 'Skimboarding', 'Touching A Shark',\n",
       "       'Attempting To Lasso A Shark', 'Photo Shoot', 'Paddle Boarding',\n",
       "       'Kakaying', 'Washing Hands', 'Grabbing Shark For A Selfie',\n",
       "       'Kayak Fishing', 'Tagging Sharks', 'Surf Skiing', 'Surf Fishing',\n",
       "       'Floating', 'Cage Diving', 'Surfng', 'Sup Foil Boarding',\n",
       "       'Lobstering', 'Fishing In Alabama Deep Fishing Rodeo',\n",
       "       'Fishing For Squid', 'Fishing For Sharks', 'Floating In Tube',\n",
       "       'Teasing A Shark', 'Surf-Skiing', 'Diving For Beche-De-Mer',\n",
       "       'Feeding Stingrays?', 'Sea Disaster', 'Lobster Fishing',\n",
       "       'Swimming / Wading', 'Fishing For Shrimp', 'Photographing Fish',\n",
       "       'Scallop Diving On Hookah', 'Treading Water',\n",
       "       'Playing In The Water', 'Body Surfing?', 'Playing',\n",
       "       'Attempting To Rescue A Shark', 'Photographing The Shark',\n",
       "       'Standing / Snorkeling', 'Hand Feeding Sharks',\n",
       "       'Sitting In The Water', 'Transatlantic Rowing', 'Bodysurfing',\n",
       "       'Rowing', 'Shark Fishing', 'Surfing & Filming Dolphins', 'Filming',\n",
       "       'Swimming After Falling Overboard', 'Diving / Filming',\n",
       "       'Fishing For Blue Sharks', 'Standing In Inner Tube',\n",
       "       'Body Surfing Or Boogie Boarding', 'Feeding Fish',\n",
       "       'Playing With An Air Mattress', 'Kite Boarding', 'Shark Diving',\n",
       "       'Petting A Shark', 'Kneeling In The Water', 'Fell Into The Water',\n",
       "       'Shark Watching', 'Diving For Lobsters',\n",
       "       'Scuba Diving / Culling Lionfish', 'Kitesurfing', 'Sailing',\n",
       "       'Spearfishing / Free Diving',\n",
       "       'Free Diving / Photographing Pilot Whales',\n",
       "       'Filming A Documentary',\n",
       "       'Attempting To Remove Fishing Net From Submerged Object',\n",
       "       'Kiteboarding', 'Diving For Crayfish', 'Swimming / Snorkeling',\n",
       "       'Diving For Abalone', 'Casting A Net', 'Marathon Swimming',\n",
       "       'Longline Fishing For Sharks', 'Wrangling A Shark',\n",
       "       'Attempting To Free The Shark', 'Walking In Surf',\n",
       "       'Swimming & Snorkeling', 'Playing In The Surf', 'Fly Fishing',\n",
       "       \"Fishing - 'Tag & Release'\",\n",
       "       'Swimming To Shore With Floatioon Devices After Boat Engine Conked Out',\n",
       "       'Dragging Stranded Shark Into Deeper Water', 'Bathing',\n",
       "       'Bodyboarding', 'Swimming Or Boogie Boarding',\n",
       "       'Wading Or Swimming',\n",
       "       'Attempting To Rescue An Injured & Beached Shark',\n",
       "       'Free Diving / Spearfishing', 'Crayfishing',\n",
       "       'Diving, Feeding Sharks',\n",
       "       'Attempting To Kite Surf From Egypt To Saudi Arabia',\n",
       "       'Fishing (Illegally)', 'Diving, Photographing Sharks',\n",
       "       'Wade Fishing', 'Jumping In The Waves',\n",
       "       'Standing, Collecting Sea Stars', 'Swimming Or Snorkeling',\n",
       "       'Kayaking Or Wave Skiing', 'Jet Skiing',\n",
       "       'Standing Or Boogie Boardin', 'Washing Sand Off A Speared Fish',\n",
       "       'Standing, Holding Shark Pup', 'Diving / Fishing', 'Wakeboarding',\n",
       "       'Shark Fishing On The Ricardo Astorga',\n",
       "       'Shark Fishing On The Don Agustín-Vi.', 'Attempting To Fix Motor',\n",
       "       'Swimming /  Whale Watching',\n",
       "       'Swimming After Boat Became Disabled', 'Rescuing',\n",
       "       'Measuring Sharks', 'Swimming / Treading Water',\n",
       "       'Surf Fishing / Wading', 'Spearfishing (Free Diving)',\n",
       "       'Paddling On Kneeboard', 'Swimming To Shore From Capsized Kayak',\n",
       "       'Paddle-Boarding',\n",
       "       'Swimming, Attempting To Rescue A Girl  Believed To Be Drowning',\n",
       "       'Washing His Feet', 'Paddle-Surfing', 'Crawling',\n",
       "       'Diving, But On The Surface When Bitten By The Shark',\n",
       "       'Air Disaster', 'Crabbing', 'Yacht Race',\n",
       "       'Sinking Of The Cargo Ship Mark Jason',\n",
       "       'Fishing Boat Swamped In Storm', 'Swimming, Towing Surfboard',\n",
       "       'Swimming Or Surfing', 'Rowing An Inflatable Dinghy',\n",
       "       'Night Diving', 'Free-Diving',\n",
       "       'Walking Out Of The Water After Surfing', 'Fishing From Surfski',\n",
       "       \"Accidentally Stood On Hooked Shark'S Tail Before Attempting To Gut It\",\n",
       "       'Attempting To Chase Shark Out To Sea', 'Fishing For Snapper',\n",
       "       'Removing Fish From A Trap',\n",
       "       'The 426-Ton Cargo Ship Mia, Laden With Cement, Capsized In Heavy Seas',\n",
       "       'Wading?', 'Jumping',\n",
       "       'Floating Near Boat & Observing Bioluminesce',\n",
       "       'Jumped Into The Water', 'Surf Paddling', 'Murder',\n",
       "       'Removing Hook From Shark', 'Reviving A Sedated Shark',\n",
       "       'Shark Tagging', 'Swimming / Jumping Off A Jetty',\n",
       "       'Playing On A Sandbar', 'Shrimping', 'Swimming / Body Surfing',\n",
       "       'Playing Soccer In The Water', 'Free Diving / Modeling',\n",
       "       'Diving / Kissing The Shark', 'Lifesaving Drill',\n",
       "       'Touching Sharks',\n",
       "       'Competing In The Woodvale Atlantic Rowing Race', 'Night Surfing',\n",
       "       'Standing / Surfing', 'Treading Water/ Surfing',\n",
       "       'Removing Shark From Net',\n",
       "       'Boogie Boarding, Kicked At Object In The Water',\n",
       "       'Scuba Diving In Aquarium Tank', 'Holding Onto An Inflatable Boat',\n",
       "       'Swimming With Boogie Board', \"Crouching In 2' Of Water\",\n",
       "       'Diving In Aquarium Display Tank',\n",
       "       'Attempting To Drive Shark Away From Sailing Regatta',\n",
       "       'Fishing From A Kayak',\n",
       "       'Swept Out To Sea By The Tsunami, She Clung  To A Log For 24 Hours',\n",
       "       'Scurfing (Surfboard Being  Towed Behind A Boat)',\n",
       "       'Chumming For White Sharks', 'Spearfishing/ Filming',\n",
       "       'Diving & Fishing With Net',\n",
       "       'Wading / Fishing & Carrying A Bag Of Fish',\n",
       "       'Fishing For Squid Aboard The Trawler Shikishima-Maru When The Shark Leapt Into The Boat',\n",
       "       'In Water With Diving Seabirds', 'Swimming, Poaching Perlemoen',\n",
       "       'Boogie-Boarding / Swimming', 'Free Diving & Spearfishing',\n",
       "       'Tandem Surfing',\n",
       "       'Five Men On Makeshift Raft After Their 10 M Fishing Boat  Capsized And Sank In Rough Seas. Survivors Rescued After  7.5 Hours In The Water',\n",
       "       'Kayaking (Returning From Spearfishing)',\n",
       "       'Air Disaster. Flash Airlines Boeing 737 Crashed Into The Red Sea',\n",
       "       'Swimming / Shipwreck', 'Surfing Amid A Shoal Of Sharks',\n",
       "       'Swimming To Shore From Boat Or Kayak', 'Sitting On Surfboard',\n",
       "       'Wading Near A Fishing Net', 'Wading To Shore From His Boat',\n",
       "       'Standing, Stepped On Shark', 'Wade-Fishing',\n",
       "       'Swimming, Wearing Black Wetsuit & Swim Fins',\n",
       "       'Walking, Carrying Surfboard & Stepped On Shark',\n",
       "       'Swimming With Pod Of Dolphins', 'Killing  Sharks',\n",
       "       'Swimming (Using A Float)', 'Petting Captive Sharks', 'Unknown',\n",
       "       \"Fishing, Standing In 2' Of Water\", 'Fishing From Surfboard',\n",
       "       'Boogie Boarding Or Surfing',\n",
       "       'Wading, When He Stepped On The Shark',\n",
       "       'Attempting To Retreive A Dinghy',\n",
       "       'Snorkeling (Filming The Sardine Run)', 'Floating On A Raft',\n",
       "       'Fishing, Removing The Shark From His Line',\n",
       "       'Playing In The Surf With His 2 Dogs', 'Collecting Beche-De-Mer',\n",
       "       'Fishing From Prawn Trawler',\n",
       "       'Scallop Diving (Using Surface-Supplied Air & A Pod)',\n",
       "       'Fishing (Drowned 2-Apr-2002)',\n",
       "       'Surfing, But Standing In Water Alongside Board', 'Body-Boarding',\n",
       "       'Swimming /  Boogie Boarding', 'Capsized Fishing Boat',\n",
       "       'Kite-Boarding',\n",
       "       'Surfing, Fell Off Surfboard & Stepped On The Shark.',\n",
       "       'Wreck / Technical Diving', 'Walking In Shallows',\n",
       "       'Fell Off Banana Boat', 'Floating Face-Down In Knee-Deep Water',\n",
       "       'Hiking On The Beach', 'Spearfishing, Carrying His Catch',\n",
       "       'Standing Alongside Surfboard', 'Batin',\n",
       "       'Attempting To Catch A Crocodile',\n",
       "       \"Sinking Of The 40' Esperanza Off St. Maartin With 36 Refugees On Board\",\n",
       "       'Fishing For Whiting', 'Swimming Back From Anchored Sailboat',\n",
       "       'Diving For Sea Urchins', 'Diving (Shell Maintenance)',\n",
       "       'Shipwrecked', 'Fell Onto Dead Shark', 'Conducting Research',\n",
       "       'Swimming Out To Porpoises',\n",
       "       'Windsurfing, But Sitting On His Board', 'Surfing / Wading',\n",
       "       'Attempting To Illegally Enter The Usa',\n",
       "       'Spearfishing, Holding Mesh Bag With Speared Fish',\n",
       "       'Air Disaster - Piper Aircraft Crashed Into The Sea, Killing All On Board',\n",
       "       'Boogie Boarding / Wading', 'Feeding Prawns To Captive Sharks',\n",
       "       'Canoe With 3 Men Onboard Sank', 'Fishing For Tarpon',\n",
       "       'Surfing (Sitting On His Board)',\n",
       "       'Spearfishing, But Swimming At Surface',\n",
       "       'Surfing, Lying On Surfboard', 'Wading To Shore After Surfing',\n",
       "       'Wading With Surfboard', \"Lying Prone In 2' Of Water\",\n",
       "       'Spearfishing & Holding Catch', 'Swimming With Dolphins',\n",
       "       'Wading In School Of Baitfish', 'Adrift In A Life Jacket',\n",
       "       'Splashing / Wading',\n",
       "       'Swimming After Being Swept Into Sea By A Large Wave',\n",
       "       'Spearfishing & Diving For Paua',\n",
       "       \"Scientific Research (Dr. Sonny Gruber'S Student)\",\n",
       "       'Swimming, Towing A Kayak', 'Body Surfing Or Body Boarding',\n",
       "       'Swimming Near Pod Of Whales', 'Cruising', 'Paddle Skiing',\n",
       "       'Inflatable Boat', 'Splashing', 'Fishing For Tuna',\n",
       "       'Fishing / Washing Bait Off Hands', 'Moving A Shark In A Net',\n",
       "       'Surfing (Or Body Boarding)', 'Free Diving For Abalone',\n",
       "       'Swimming / Surfing', 'Towing Rubber Dinghy',\n",
       "       'Surfing (Lying Prone On His Board)',\n",
       "       'Snorkeling \\x96 Hunting Crayfish And Abalone',\n",
       "       'Swimming Or Paddle Boarding',\n",
       "       'Spearfishing On Scuba & Transferring Fish Onto A Stringer',\n",
       "       'Scuba Diving (Submerged Riding A Scooter)',\n",
       "       'Body Boarding Or Surfing', 'Fishingat', 'Walking / Surfing',\n",
       "       'Floating On Raft', 'Wading / Surfing', 'Fishing For Octopus',\n",
       "       'Spearfishing / Night Diving', 'Body Surfing, Stood Up On Sandbar',\n",
       "       'Watching Seals', 'Attempting To Attract Dolphins',\n",
       "       'Surfing / Swimming', 'Free Diving With A Pod Of Dolphins',\n",
       "       'Tech Diving', 'Shell Diving', 'Swimming Breast Stoke',\n",
       "       'Fishing In Knee-Deep Water',\n",
       "       'Dived Naked Into The Water On A Bet', 'Swimming In Fish Tank',\n",
       "       'Boeing 757 Enroute From Porta Plata Plunged Into The Sea',\n",
       "       'Swimming With Mask & Snorkel', 'Chumming For Sharks',\n",
       "       'Diving, Gathering Shellfish', 'Fell Off Aircraft Carrier',\n",
       "       'Playing / Standing',\n",
       "       'Abalone Diving Using Hookah (Near Calving Whales)',\n",
       "       'Abalone Diving Using Hookah (Resting On The Surface)',\n",
       "       'On A Float', '\"Riding Waves On A Board\"',\n",
       "       'Jumped Off Surfboard & Landed On The Shark',\n",
       "       'Scuba Diving (Ascending Using Scooter)', 'Playing / Jumping',\n",
       "       'Sleeping In Anchored Boat', 'Scuba Diving For Bivalves',\n",
       "       'Wind Surfing', 'Surfing, Sitting On Board', 'Murder Victim',\n",
       "       'Commercial Diver (Submerged Or Treading Water)',\n",
       "       'Surfing, Paddling Seawards', 'Adrift On Refugee Raft',\n",
       "       'Jumped Off Rocks Into White Water', 'Freediving For Seashells',\n",
       "       'Swimming Alongside Noaa Research Vessel Discoverer',\n",
       "       'Removing Shark From Tank In Nightclub',\n",
       "       'Swimming, After Falling Off Towed Kneeboard',\n",
       "       'Playing Volleyball With Friends', 'Hookah Diving',\n",
       "       'Surfing, Paddling Shorewards', 'Stamding',\n",
       "       'Watching The Shark Feeding On A Dead Pinniped',\n",
       "       'Riding Floatation Device', 'Free Diving For Abalone (Ascending)',\n",
       "       'Fishing For Lobsters', 'Oyster Fishing',\n",
       "       'Paddling On Surfboard Or Body Board',\n",
       "       'Scuba Diving At Seal Colony', 'Floating On His Back',\n",
       "       'Paddling On Surfboard', 'Free Diving & Spearfishing (Ascending)',\n",
       "       '',\n",
       "       'Standing In Waist-Deep Water, Helping His Father Tend A Gill Net Containing Dead Fish',\n",
       "       'Lying On Surfboard', 'Scuba Diving (Submerged)',\n",
       "       'Hookah Diving For Sea Urchins',\n",
       "       'Snorkeling, Carrying A Speared Fish In Her Hand',\n",
       "       'Fell From Cliff While Fishing & Disappeared In Strong Current',\n",
       "       'Fisherman',\n",
       "       \"Zosimo & His Son, Jeffrey Popa, Failed To Return From Overnight Fishing Trip In A 14' Boat, Boat Apparently Sank, Debris Recovered But His Son & Boat Were Never Found\",\n",
       "       'Preparing To Fish For Jack-Mackerel', 'Scuba Diving & Filming',\n",
       "       'Hookah Diving For Pen Shells',\n",
       "       'Fishing For Yellowtail, Seriola Quinqueradiata',\n",
       "       'Diving For Pen Shells',\n",
       "       'Fishing From Rocks, Swept Out To Sea By Large Wave & Treading Water',\n",
       "       'Finning The Shark That Bit Him',\n",
       "       'Swimming From Makeshift Raft  To Life Vest After Fishing Boat Sank',\n",
       "       'Swimming Behind Sailboat', 'Surfing, Collided With Shark',\n",
       "       'Surfing (Or Sailboarding)', 'Scuba Diving (But On Surface)',\n",
       "       'Free Diving / Spearfishing, From Paddleboard & Floating On The Surface',\n",
       "       'Snorkeling, Possibly Holding A Fish', 'Resting On Surfboard',\n",
       "       'Lying On Surfboard & Paddling', 'Free Diving For Trochus',\n",
       "       'Scuba Diving & Spearfishing', 'Board Sailing',\n",
       "       \"On Board 51' Fishing Vessel One Ki\",\n",
       "       'Wading, Knocked Down & Swept Away By Large Waves',\n",
       "       'Swimming In Canal', \"Fishing, Stepped On Hooked Shark'S Head\",\n",
       "       'Observing A Shark Feeding On A Carcass Of A Humpback Whale',\n",
       "       'Hookah Diving For Abalone (Descending)', \"Filming 5' Blue Shark\",\n",
       "       \"Fell Off Surfboard 20' From Shore\",\n",
       "       'Windsurfing (Urinating On His Board)',\n",
       "       'Scuba Diving, But Swimming On Surface',\n",
       "       'Swimming In Strong Current With 3 Others When He Disappeared',\n",
       "       'Surfing With Dolphins', 'Scuba Diving, Hand Feeding Sharks',\n",
       "       'Spearfishing Using Scuba & Trailing A String Of Bleeding Fish',\n",
       "       'Skindiving',\n",
       "       'The Christie V Sank On 11/6/1988, Survivors Were Adrift On A Dinghy',\n",
       "       'The Mv Dona Marilyn Sank In Typhoon Unsang With The Loss Of 389 Lives',\n",
       "       \"Diving In Sharkey'S Reef Restaurant\\x92S Aquarium\",\n",
       "       'Spearfishing On Scuba', 'Sittting In Water With His Child',\n",
       "       'Surfing / Treading Water', 'Pêcheur De Bichiques',\n",
       "       \"Onboard 21' Powerboat That Capsized In Rough Seas\",\n",
       "       'Lying Atop Surfboard', 'Drift Fishing',\n",
       "       'Fell Overboard  From The Taiwanese Fishing Trawler Lien Cheng Feu',\n",
       "       \"Attempting To Lasso Shark'S Tail\",\n",
       "       'Returning To Shore, Collided With Shark',\n",
       "       'Ferry Boat Dona Paz With 4431 Passengers Exploded & Caught Fire When She Collided With An  Oil Tanker',\n",
       "       'Vessel Caught Fire & Capsized, Survivors In The Water',\n",
       "       'Scuba Diving For Scallops', 'Dropping Anchor',\n",
       "       'Swimming From Shore To Anchored Sailboat',\n",
       "       'The Inter-Island Ferry Vula Sank In Heavy Weather',\n",
       "       'Jumped Into The Water From A Cliff', 'Boat',\n",
       "       'Adrift After Ditching Plane In The Sea',\n",
       "       'Free Diving  & Spearfishing (Submerged)', 'Nsb Meshing',\n",
       "       'Racing Ski', 'Fishing, Fell From Rocks & Disappeared',\n",
       "       'Hookah Diving For Abalone',\n",
       "       'Floating On Inner Tube After Diving For Lobster',\n",
       "       'Free Diving & Spearfishing (Descending)',\n",
       "       'Bottom Fishing For Lingcod & Had Hooked A Fish',\n",
       "       'Playing In Knee-Deep Water',\n",
       "       'Surfing, But Lying Prone On His Board',\n",
       "       'Free Diving For Scallops',\n",
       "       'Scuba Diving For Lobster (At Surface)',\n",
       "       'Investigating Shark Sighting',\n",
       "       'Sailing On Catamaran & Fell Into The Water',\n",
       "       'Surfing Or Body Surfing', 'Free Diving , But Surfacing',\n",
       "       'Boat Capsized?',\n",
       "       'Sea Disaster, Foundering Of The Cargo Vessle M/V Dorolonda',\n",
       "       \"During A Shark Fishing Tournament, The 18' Boatem Was Capsized By Waves, Throwing 3 Men Into The Water\",\n",
       "       'Towing Her Sister On Plastic Ski Board', 'Steinhart Aquarium',\n",
       "       'Scuba Diving For Abalone', 'Ferry Boat Sank',\n",
       "       'Swimming From The New Venture',\n",
       "       '14 M Prawn Trawler New Venture Capsized  & Sank In Heavy Seas Three People In The Water',\n",
       "       'Floating On Air Mattress',\n",
       "       'Surfing & Dangling Foot In Water Amid Baitfish', 'Water-Skiing',\n",
       "       'Paddleskiing', 'Ran Into The Water', 'In Waist-Deep Water',\n",
       "       'Free Diving For Abalone From Zodiac (Submerged)',\n",
       "       'Sailboarding, Fell Into Water 100 Yards Outside The Breakwater',\n",
       "       'Fishing On A Boat', 'Spearfishing, But Swimming On Surface',\n",
       "       'Inspecting Teeth Of Supposedly Dead (Hooked & Shot) Shark',\n",
       "       \"Diving To Untangle A Crab Trap Line From Boat'S Propeller\",\n",
       "       \"16' Catamaran Capsized Previous Night, Occupants Stayed With Wreckage Until Morning, Then Attempted To Swim Ashore\",\n",
       "       'Snorkeling On Surface', 'Catching Sardines',\n",
       "       'Scuba Diving, Reportedly Also Spearfishing',\n",
       "       'Foundering Of The Israeli Freighter Mezada', 'Standing / Wading',\n",
       "       'Free Diving Spearfishing', 'Exercising His Dog In The Shallows',\n",
       "       'Commercial Spearfishing', 'Free Diving / Spearfishing,',\n",
       "       'Diving In Tuna Net', 'Resting On Body Board', 'Skin Diving',\n",
       "       'Sinking Of The Ferryboat Don Juan',\n",
       "       'Sinking Of The Ferryboat Bongbong 1', 'Gaffing Netted Shark',\n",
       "       'Freedom Swimming', 'Murdered By Thai Pirates',\n",
       "       'Floating With Life Preserver After His Boat Foundered',\n",
       "       'Floating On Inner Tube Raft',\n",
       "       \"Explosion Destroyed 28' Boat, Survivors In The Water\",\n",
       "       'Fishing For Mackerel',\n",
       "       'Swimming, After Single-Engine Aircraft Went Down In The Sea',\n",
       "       'Fishing For Bottom Fish', 'Floating On An Inflatable Raft',\n",
       "       'Free Diving For Abalone (Surfacing)', \"40' Fishing Boat Sank\",\n",
       "       'Spearfishing / Scuba Diving', 'Collecting Fish From Net',\n",
       "       'Fishing For Yellowtail',\n",
       "       'Their 9 M Launch Was Run Down By A 25,000-Ton Japanese Freighter  On The Night Of 3-11-1977 & They Drifted, Clinging To An Icebox For 2 Days',\n",
       "       \"Pushed Surfmat Of A Young Girl Out Of The Shark'S Path, Drawing Shark'S Attention To His Own Board\",\n",
       "       'Hookah Diving For Abalone (Submerged)',\n",
       "       'Thrashing The Water / Imitating The Shark Victim From \"Jaws\"',\n",
       "       'Fishing For White Shark', 'Shipwreck', 'Skindiving,',\n",
       "       '3,909-Ton Panamanian Freighter Chieh Lee Sank In A Typhoon',\n",
       "       'Surfing, Fell Off Surfboard',\n",
       "       \"Sitting In Bow Of Her Father'S 5 M Boat\",\n",
       "       'Competing In A Light Tackle Game Fishing',\n",
       "       'Fishing For Snoek & Yellowtail',\n",
       "       'Attempting To Drive Shark Away From The Beach',\n",
       "       'Filming & Feeding Captive Sharks',\n",
       "       'Floating On A Small Orange Raft',\n",
       "       'Scuba Diving For Abalone (At Surface)', 'Swimming Near His Boat',\n",
       "       'Spearfishing Competition', 'Floating In Inner Tube',\n",
       "       'Diving & Force-Feeding The Shark',\n",
       "       'Attempting To Drag Hooked Shark Ashore By Its Tail',\n",
       "       'Ferry Capsized',\n",
       "       'Swimming Underwater From Crayfish Cage To A Fishing Bait',\n",
       "       '3.3 M Fishing Boat Sank. Treveluwe & Peter Hodgson (Wearing Lifejackets) Were Drifting In The Current',\n",
       "       'Free Diving For Abalone (Submerged)',\n",
       "       'Adrift After The Sinking Of The Motor Yacht Princess Dianne',\n",
       "       'Free Diving (But On Surface)', 'Fishing Boat Swamped In A Storm',\n",
       "       'Fishing For Kob', 'Fishing For Red Fish', 'Sitting',\n",
       "       'Swimming Alongside Yacht Mexico Fiesta',\n",
       "       'Being Pulled To Shore From Wreck Of 25-Ton Fishing Vessel Alan S',\n",
       "       'Free Diving, Spearfishing', 'Crabbing (Spearing Crabs)',\n",
       "       'Fishing From Paddleski', 'Scuba Diving & U/W Photography',\n",
       "       'Sitting In Shallows', 'Free Diving, Collecting Shells',\n",
       "       'Scuba Diving & Feeding Fish', 'Hookah Diving (Submerged)',\n",
       "       'Wreck Of The 1689-Ton Portuguese  Coaster Angoche',\n",
       "       'Fishing For Prawns',\n",
       "       'Sea Disaster Sinking Of Ferryboat Christina',\n",
       "       'Motor Launch Baby Princesa Capsized With 22 People On Board',\n",
       "       'Freediving', 'Attempted To Return Injured Shark To The Sea',\n",
       "       'Spearfishing / Freediving', 'Washing Cooking Pans',\n",
       "       'Washing Clothes On Stairs',\n",
       "       'Fishing, Trying To Catch The End Of His Fishing Line',\n",
       "       'Scuba Diving For Lobsters', 'Freediving For Abalone (At Surface)',\n",
       "       'Surf-Fishing', 'Netting Pilchards', 'Hard Hat Diving',\n",
       "       'Sight-Seeing', 'Feeding Mullet To Sharks',\n",
       "       'Wreck Of The Storm King', 'Spearfishing Using Scuba',\n",
       "       'Sinking Of The Ferryboat Dumaguete',\n",
       "       'Playing With A Frisbee In The Shallows', 'Leaving The Water',\n",
       "       'Dynamite Fishing',\n",
       "       'Small Boat With 2 Men Onboard Hit A Submerged Coral Formation. Men Began Swimming To Shore',\n",
       "       'Clamming', 'Schooner Sank During A Storm',\n",
       "       'Diving. Shark \\x93Swallowed\\x92 His Hand, So He Threw His Other Around The Shark And Went \\x93Shark-Back Riding\\x94 For 30 Yards Until The Shark Opened Its Jaws',\n",
       "       'Wading & Pushing Dinghy Toward  The Shallows',\n",
       "       'Picking Up Shark By The Tail',\n",
       "       'Swimming After His Canoe Capsized'], dtype=object)"
      ]
     },
     "execution_count": 26,
     "metadata": {},
     "output_type": "execute_result"
    }
   ],
   "source": [
    "shark_attack[\"Activity\"].unique()"
   ]
  },
  {
   "cell_type": "code",
   "execution_count": 27,
   "metadata": {
    "ExecuteTime": {
     "end_time": "2021-01-16T04:58:59.422129Z",
     "start_time": "2021-01-16T04:58:59.395427Z"
    }
   },
   "outputs": [
    {
     "data": {
      "text/plain": [
       "Surfing                           952\n",
       "Swimming                          456\n",
       "Spearfishing                      221\n",
       "Fishing                           178\n",
       "Wading                            114\n",
       "Snorkeling                         85\n",
       "Scuba Diving                       82\n",
       "Diving                             72\n",
       "Body Boarding                      64\n",
       "Standing                           56\n",
       "Boogie Boarding                    45\n",
       "Kayaking                           35\n",
       "Body Surfing                       29\n",
       "Windsurfing                        19\n",
       "Kayak Fishing                      14\n",
       "Free Diving                        14\n",
       "Walking                            13\n",
       "Surf Skiing                        13\n",
       "Sea Disaster                       12\n",
       "Kite Surfing                       11\n",
       "Surf-Skiing                        11\n",
       "Freedom Swimming                    9\n",
       "Sitting On Surfboard                9\n",
       "Paddle Boarding                     9\n",
       "Shark Fishing                       8\n",
       "Playing                             8\n",
       "Wade Fishing                        7\n",
       "Surfing (Sitting On His Board)      7\n",
       "Canoeing                            7\n",
       "Surf Fishing                        7\n",
       "Name: Activity, dtype: int64"
      ]
     },
     "execution_count": 27,
     "metadata": {},
     "output_type": "execute_result"
    }
   ],
   "source": [
    "shark_attack.Activity.value_counts().head(30)"
   ]
  },
  {
   "cell_type": "code",
   "execution_count": 28,
   "metadata": {
    "ExecuteTime": {
     "end_time": "2021-01-16T04:59:02.753372Z",
     "start_time": "2021-01-16T04:59:02.730530Z"
    }
   },
   "outputs": [
    {
     "data": {
      "text/plain": [
       "225"
      ]
     },
     "execution_count": 28,
     "metadata": {},
     "output_type": "execute_result"
    }
   ],
   "source": [
    "shark_attack.Activity.isnull().sum()"
   ]
  },
  {
   "cell_type": "code",
   "execution_count": 29,
   "metadata": {
    "ExecuteTime": {
     "end_time": "2021-01-16T04:59:05.774950Z",
     "start_time": "2021-01-16T04:59:05.764591Z"
    }
   },
   "outputs": [],
   "source": [
    "shark_attack = shark_attack.dropna(subset=['Activity'])"
   ]
  },
  {
   "cell_type": "code",
   "execution_count": 30,
   "metadata": {
    "ExecuteTime": {
     "end_time": "2021-01-16T04:59:08.774383Z",
     "start_time": "2021-01-16T04:59:08.761221Z"
    }
   },
   "outputs": [
    {
     "data": {
      "text/plain": [
       "(3267, 7)"
      ]
     },
     "execution_count": 30,
     "metadata": {},
     "output_type": "execute_result"
    }
   ],
   "source": [
    "shark_attack.shape"
   ]
  },
  {
   "cell_type": "code",
   "execution_count": 31,
   "metadata": {
    "ExecuteTime": {
     "end_time": "2021-01-16T04:59:11.829880Z",
     "start_time": "2021-01-16T04:59:11.767705Z"
    },
    "scrolled": true
   },
   "outputs": [
    {
     "name": "stderr",
     "output_type": "stream",
     "text": [
      "C:\\Users\\gisiq\\anaconda3\\lib\\site-packages\\pandas\\core\\generic.py:5303: SettingWithCopyWarning: \n",
      "A value is trying to be set on a copy of a slice from a DataFrame.\n",
      "Try using .loc[row_indexer,col_indexer] = value instead\n",
      "\n",
      "See the caveats in the documentation: https://pandas.pydata.org/pandas-docs/stable/user_guide/indexing.html#returning-a-view-versus-a-copy\n",
      "  self[name] = value\n"
     ]
    },
    {
     "data": {
      "text/plain": [
       "Surfing           1268\n",
       "Swimming           630\n",
       "Diving             517\n",
       "Fishing            284\n",
       "Wading             189\n",
       "Boating             75\n",
       "Walking             13\n",
       "Sea Disaster        12\n",
       "Playing              8\n",
       "Bathing              7\n",
       "Canoeing             7\n",
       "Rowing               6\n",
       "Treading Water       5\n",
       "Body-Boarding        4\n",
       "Freediving           4\n",
       "Kite Boarding        4\n",
       "Skindiving           4\n",
       "Murder               4\n",
       "Jumping              4\n",
       "Feeding Sharks       4\n",
       "Name: Activity, dtype: int64"
      ]
     },
     "execution_count": 31,
     "metadata": {},
     "output_type": "execute_result"
    }
   ],
   "source": [
    "# Separar as Atividades em categorias mais importantes\n",
    "\n",
    "# Surfing\n",
    "category = lambda x: 'Surfing' if 'Surfing' in x or 'Windsurfing' in x or 'Surf' in x or 'Body Boarding' in x or 'Boogie Boarding' in x else x\n",
    "shark_attack.Activity = shark_attack.Activity.map(category)\n",
    "\n",
    "# Swimming\n",
    "category = lambda x: 'Swimming' if 'Swimming' in x  or 'Swim' in x or 'Snorkeling' in x or 'Floating' in x else x\n",
    "shark_attack.Activity = shark_attack.Activity.map(category)\n",
    "\n",
    "# Wading\n",
    "category = lambda x: 'Wading' if 'Wading' in x or 'Standing' in x else x\n",
    "shark_attack.Activity = shark_attack.Activity.map(category)\n",
    "\n",
    "# Diving\n",
    "category = lambda x: 'Diving' if 'Diving' in x or 'Spearfishing' in x else x\n",
    "shark_attack.Activity = shark_attack.Activity.map(category)\n",
    "\n",
    "# Fishing\n",
    "category = lambda x: 'Fishing' if 'Fishing' in x else x\n",
    "shark_attack.Activity = shark_attack.Activity.map(category)\n",
    "\n",
    "# Boating\n",
    "category = lambda x: 'Boating' if 'Boat' in x or 'Paddling' in x or 'Paddle' in x or 'Kayaking' in x else x\n",
    "shark_attack.Activity = shark_attack.Activity.map(category)\n",
    "\n",
    "\n",
    "shark_attack.Activity.value_counts().head(20)"
   ]
  },
  {
   "cell_type": "markdown",
   "metadata": {
    "ExecuteTime": {
     "end_time": "2021-01-16T01:21:11.903824Z",
     "start_time": "2021-01-16T01:21:11.893413Z"
    }
   },
   "source": [
    "## Coluna Fatal"
   ]
  },
  {
   "cell_type": "code",
   "execution_count": 32,
   "metadata": {
    "ExecuteTime": {
     "end_time": "2021-01-16T04:59:16.942792Z",
     "start_time": "2021-01-16T04:59:16.932626Z"
    }
   },
   "outputs": [
    {
     "data": {
      "text/plain": [
       "array(['N', 'Y', nan, 'M', '2017', 'UNKNOWN'], dtype=object)"
      ]
     },
     "execution_count": 32,
     "metadata": {},
     "output_type": "execute_result"
    }
   ],
   "source": [
    "shark_attack[\"Fatal\"].unique()"
   ]
  },
  {
   "cell_type": "code",
   "execution_count": 33,
   "metadata": {
    "ExecuteTime": {
     "end_time": "2021-01-16T04:59:20.341015Z",
     "start_time": "2021-01-16T04:59:20.316882Z"
    }
   },
   "outputs": [
    {
     "data": {
      "text/plain": [
       "216"
      ]
     },
     "execution_count": 33,
     "metadata": {},
     "output_type": "execute_result"
    }
   ],
   "source": [
    "shark_attack.Fatal.isnull().sum()"
   ]
  },
  {
   "cell_type": "code",
   "execution_count": 34,
   "metadata": {
    "ExecuteTime": {
     "end_time": "2021-01-16T04:59:23.618354Z",
     "start_time": "2021-01-16T04:59:23.595839Z"
    }
   },
   "outputs": [
    {
     "name": "stderr",
     "output_type": "stream",
     "text": [
      "C:\\Users\\gisiq\\anaconda3\\lib\\site-packages\\pandas\\core\\generic.py:5303: SettingWithCopyWarning: \n",
      "A value is trying to be set on a copy of a slice from a DataFrame.\n",
      "Try using .loc[row_indexer,col_indexer] = value instead\n",
      "\n",
      "See the caveats in the documentation: https://pandas.pydata.org/pandas-docs/stable/user_guide/indexing.html#returning-a-view-versus-a-copy\n",
      "  self[name] = value\n"
     ]
    }
   ],
   "source": [
    "shark_attack.Fatal = shark_attack.Fatal.fillna('No Data')"
   ]
  },
  {
   "cell_type": "code",
   "execution_count": 35,
   "metadata": {
    "ExecuteTime": {
     "end_time": "2021-01-16T04:59:27.202884Z",
     "start_time": "2021-01-16T04:59:27.145298Z"
    }
   },
   "outputs": [
    {
     "name": "stderr",
     "output_type": "stream",
     "text": [
      "<ipython-input-35-658fbc050b5e>:1: SettingWithCopyWarning: \n",
      "A value is trying to be set on a copy of a slice from a DataFrame.\n",
      "Try using .loc[row_indexer,col_indexer] = value instead\n",
      "\n",
      "See the caveats in the documentation: https://pandas.pydata.org/pandas-docs/stable/user_guide/indexing.html#returning-a-view-versus-a-copy\n",
      "  shark_attack['Fatal']=shark_attack['Fatal'].replace({'UNKNOWN':'No Data', 'Unknown':'No Data', 'M':'N', '2017':'No Data'})\n"
     ]
    },
    {
     "data": {
      "text/plain": [
       "array(['N', 'Y', 'No Data'], dtype=object)"
      ]
     },
     "execution_count": 35,
     "metadata": {},
     "output_type": "execute_result"
    }
   ],
   "source": [
    "shark_attack['Fatal']=shark_attack['Fatal'].replace({'UNKNOWN':'No Data', 'Unknown':'No Data', 'M':'N', '2017':'No Data'})\n",
    "shark_attack['Fatal'].unique()"
   ]
  },
  {
   "cell_type": "code",
   "execution_count": 36,
   "metadata": {
    "ExecuteTime": {
     "end_time": "2021-01-16T04:59:30.070248Z",
     "start_time": "2021-01-16T04:59:30.042408Z"
    }
   },
   "outputs": [
    {
     "data": {
      "text/plain": [
       "N          2677\n",
       "Y           359\n",
       "No Data     231\n",
       "Name: Fatal, dtype: int64"
      ]
     },
     "execution_count": 36,
     "metadata": {},
     "output_type": "execute_result"
    }
   ],
   "source": [
    "shark_attack['Fatal'].value_counts()"
   ]
  },
  {
   "cell_type": "markdown",
   "metadata": {
    "ExecuteTime": {
     "end_time": "2021-01-16T03:16:54.124995Z",
     "start_time": "2021-01-16T03:16:54.114315Z"
    }
   },
   "source": [
    "## Coluna Injury"
   ]
  },
  {
   "cell_type": "code",
   "execution_count": 37,
   "metadata": {
    "ExecuteTime": {
     "end_time": "2021-01-16T04:59:37.106747Z",
     "start_time": "2021-01-16T04:59:37.094596Z"
    }
   },
   "outputs": [
    {
     "data": {
      "text/plain": [
       "9"
      ]
     },
     "execution_count": 37,
     "metadata": {},
     "output_type": "execute_result"
    }
   ],
   "source": [
    "shark_attack.Injury.isnull().sum()"
   ]
  },
  {
   "cell_type": "code",
   "execution_count": 38,
   "metadata": {
    "ExecuteTime": {
     "end_time": "2021-01-16T04:59:40.188306Z",
     "start_time": "2021-01-16T04:59:40.170152Z"
    }
   },
   "outputs": [
    {
     "name": "stderr",
     "output_type": "stream",
     "text": [
      "C:\\Users\\gisiq\\anaconda3\\lib\\site-packages\\pandas\\core\\generic.py:5303: SettingWithCopyWarning: \n",
      "A value is trying to be set on a copy of a slice from a DataFrame.\n",
      "Try using .loc[row_indexer,col_indexer] = value instead\n",
      "\n",
      "See the caveats in the documentation: https://pandas.pydata.org/pandas-docs/stable/user_guide/indexing.html#returning-a-view-versus-a-copy\n",
      "  self[name] = value\n"
     ]
    }
   ],
   "source": [
    "shark_attack.Injury = shark_attack.Injury.fillna('No Data')"
   ]
  },
  {
   "cell_type": "code",
   "execution_count": 39,
   "metadata": {
    "ExecuteTime": {
     "end_time": "2021-01-16T04:59:43.750908Z",
     "start_time": "2021-01-16T04:59:43.727653Z"
    }
   },
   "outputs": [
    {
     "data": {
      "text/plain": [
       "array(['No injury to occupant, outrigger canoe and paddle damaged',\n",
       "       'Minor injury to left thigh',\n",
       "       'Injury to left lower leg from surfboard skeg', ...,\n",
       "       'No injury, speargun bitten',\n",
       "       'Recovered, said to involve a 1m nurse shark', 'Left leg injured'],\n",
       "      dtype=object)"
      ]
     },
     "execution_count": 39,
     "metadata": {},
     "output_type": "execute_result"
    }
   ],
   "source": [
    "shark_attack[\"Injury\"].unique()"
   ]
  },
  {
   "cell_type": "code",
   "execution_count": 40,
   "metadata": {
    "ExecuteTime": {
     "end_time": "2021-01-16T04:59:46.920255Z",
     "start_time": "2021-01-16T04:59:46.900443Z"
    }
   },
   "outputs": [
    {
     "name": "stderr",
     "output_type": "stream",
     "text": [
      "<ipython-input-40-1c6c9f711299>:1: SettingWithCopyWarning: \n",
      "A value is trying to be set on a copy of a slice from a DataFrame.\n",
      "Try using .loc[row_indexer,col_indexer] = value instead\n",
      "\n",
      "See the caveats in the documentation: https://pandas.pydata.org/pandas-docs/stable/user_guide/indexing.html#returning-a-view-versus-a-copy\n",
      "  shark_attack['Injury']=shark_attack['Injury'].replace({'No details':'No Data'})\n"
     ]
    }
   ],
   "source": [
    "shark_attack['Injury']=shark_attack['Injury'].replace({'No details':'No Data'})"
   ]
  },
  {
   "cell_type": "code",
   "execution_count": 41,
   "metadata": {
    "ExecuteTime": {
     "end_time": "2021-01-16T04:59:50.949634Z",
     "start_time": "2021-01-16T04:59:50.903261Z"
    },
    "scrolled": true
   },
   "outputs": [
    {
     "name": "stderr",
     "output_type": "stream",
     "text": [
      "C:\\Users\\gisiq\\anaconda3\\lib\\site-packages\\pandas\\core\\generic.py:5303: SettingWithCopyWarning: \n",
      "A value is trying to be set on a copy of a slice from a DataFrame.\n",
      "Try using .loc[row_indexer,col_indexer] = value instead\n",
      "\n",
      "See the caveats in the documentation: https://pandas.pydata.org/pandas-docs/stable/user_guide/indexing.html#returning-a-view-versus-a-copy\n",
      "  self[name] = value\n"
     ]
    },
    {
     "data": {
      "text/plain": [
       "Injury                                                                                                               2058\n",
       "No injury                                                                                                             463\n",
       "Fatal                                                                                                                 283\n",
       "No Data                                                                                                                20\n",
       "Injury to hand                                                                                                          4\n",
       "Shark bites were post-mortem                                                                                            3\n",
       "Abrasions                                                                                                               3\n",
       "Shark involvement prior to death unconfirmed                                                                            3\n",
       "Cuts on right foot                                                                                                      2\n",
       "Foot nipped                                                                                                             2\n",
       "Severe injury to arm                                                                                                    2\n",
       "Shark involvement prior to death not confirmed                                                                          2\n",
       "Injuries to right foot                                                                                                  2\n",
       "Probable drowning with post-mortem bites                                                                                2\n",
       "Missing, thought to have been taken by a shark                                                                          2\n",
       "Shark leapt into boat, landed on Hlope's back, then bit his left forearm                                                1\n",
       "A hoax, no shark involvement                                                                                            1\n",
       "Injuries to hand and wrist                                                                                              1\n",
       "Shark jumped in boat, but no injury to occupants                                                                        1\n",
       "Reported by media as shark attack but forensic evidence indicated the kayaker died prior to any shark involvement       1\n",
       "Name: Injury, dtype: int64"
      ]
     },
     "execution_count": 41,
     "metadata": {},
     "output_type": "execute_result"
    }
   ],
   "source": [
    "# Boat, Boating and Boatomg to 1 category\n",
    "category = lambda x: 'No injury' if 'No injury' in x or 'No Injury' in x else x\n",
    "shark_attack.Injury = shark_attack.Injury.map(category)\n",
    "\n",
    "category = lambda x: 'Injury' if 'laceration' in x or 'lacerations' in x or 'severed' in x or 'bitten' in x or 'Lacerations' in x or 'lacerated' in x or 'Survived' in x or 'Laceration' in x or 'wounds' in x or 'Minor' in x or 'injured' in x else x\n",
    "shark_attack.Injury = shark_attack.Injury.map(category)\n",
    "\n",
    "category = lambda x: 'Fatal' if 'Fatal' in x or 'FATAL' in x or 'fatal' in x else x\n",
    "shark_attack.Injury = shark_attack.Injury.map(category)\n",
    "\n",
    "\n",
    "shark_attack.Injury.value_counts().head(20)"
   ]
  },
  {
   "cell_type": "markdown",
   "metadata": {},
   "source": [
    "## Coluna Country"
   ]
  },
  {
   "cell_type": "code",
   "execution_count": 42,
   "metadata": {
    "ExecuteTime": {
     "end_time": "2021-01-16T04:59:59.672215Z",
     "start_time": "2021-01-16T04:59:59.653950Z"
    }
   },
   "outputs": [
    {
     "data": {
      "text/plain": [
       "array(['Usa', 'Australia', 'Mexico', 'Brazil', 'England', 'South Africa',\n",
       "       'Thailand', 'Costa Rica', 'Maldives', 'Bahamas', 'New Caledonia',\n",
       "       'Ecuador', 'Malaysia', 'Libya', nan, 'Cuba', 'Mauritius',\n",
       "       'New Zealand', 'Spain', 'Samoa', 'Solomon Islands', 'Japan',\n",
       "       'Egypt', 'St Helena, British Overseas Territory', 'Comoros',\n",
       "       'Reunion', 'French Polynesia', 'United Kingdom',\n",
       "       'United Arab Emirates', 'Philippines', 'Indonesia', 'China',\n",
       "       'Columbia', 'Fiji', 'Dominican Republic', 'Cayman Islands',\n",
       "       'Aruba', 'Mozambique', 'Puerto Rico', 'Italy', 'Atlantic Ocean',\n",
       "       'St. Martin', 'France', 'Papua New Guinea', 'Trinidad & Tobago',\n",
       "       'Kiribati', 'Israel', 'Diego Garcia', 'Taiwan',\n",
       "       'Palestinian Territories', 'Seychelles', 'Belize', 'Jamaica',\n",
       "       'Nigeria', 'Tonga', 'Scotland', 'Canada', 'Croatia',\n",
       "       'Saudi Arabia', 'Chile', 'Antigua', 'Kenya', 'Russia',\n",
       "       'Turks & Caicos', 'United Arab Emirates (Uae)', 'Azores',\n",
       "       'South Korea', 'Malta', 'Vietnam', 'Madagascar', 'Guam', 'Panama',\n",
       "       'Somalia', 'Nevis', 'British Virgin Islands', 'Norway', 'Senegal',\n",
       "       'Yemen', 'Gulf Of Aden', 'Sierra Leone', 'St. Maartin',\n",
       "       'Grand Cayman', 'Liberia', 'Vanuatu', 'Honduras', 'Venezuela',\n",
       "       'Sri Lanka', 'Uruguay', 'India', 'Micronesia', 'Caribbean Sea',\n",
       "       'Okinawa', 'Tanzania', 'Marshall Islands', 'Egypt / Israel',\n",
       "       'Northern Arabian Sea', 'Hong Kong', 'El Salvador', 'Angola',\n",
       "       'Bermuda', 'Montenegro', 'Iran', 'Greece', 'Tunisia', 'Namibia',\n",
       "       'North Atlantic Ocean', 'Portugal', 'South China Sea',\n",
       "       'Bangladesh', 'Palau', 'Western Samoa', 'Pacific Ocean',\n",
       "       'British Isles', 'Grenada', 'Iraq', 'Turkey'], dtype=object)"
      ]
     },
     "execution_count": 42,
     "metadata": {},
     "output_type": "execute_result"
    }
   ],
   "source": [
    "shark_attack.Country.unique()"
   ]
  },
  {
   "cell_type": "code",
   "execution_count": 43,
   "metadata": {
    "ExecuteTime": {
     "end_time": "2021-01-16T05:00:03.128984Z",
     "start_time": "2021-01-16T05:00:03.109316Z"
    }
   },
   "outputs": [
    {
     "data": {
      "text/plain": [
       "Usa                 1553\n",
       "Australia            535\n",
       "South Africa         343\n",
       "Brazil                95\n",
       "Bahamas               81\n",
       "New Zealand           58\n",
       "Reunion               53\n",
       "Mexico                41\n",
       "New Caledonia         38\n",
       "Mozambique            25\n",
       "Egypt                 23\n",
       "Spain                 21\n",
       "Italy                 19\n",
       "French Polynesia      19\n",
       "Hong Kong             18\n",
       "Fiji                  18\n",
       "Philippines           17\n",
       "Papua New Guinea      14\n",
       "Tonga                 13\n",
       "Japan                 13\n",
       "Name: Country, dtype: int64"
      ]
     },
     "execution_count": 43,
     "metadata": {},
     "output_type": "execute_result"
    }
   ],
   "source": [
    "shark_attack.Country.value_counts().head(20)"
   ]
  },
  {
   "cell_type": "code",
   "execution_count": 44,
   "metadata": {
    "ExecuteTime": {
     "end_time": "2021-01-16T05:00:06.138773Z",
     "start_time": "2021-01-16T05:00:06.123188Z"
    }
   },
   "outputs": [
    {
     "data": {
      "text/plain": [
       "6"
      ]
     },
     "execution_count": 44,
     "metadata": {},
     "output_type": "execute_result"
    }
   ],
   "source": [
    "shark_attack.Country.isnull().sum()"
   ]
  },
  {
   "cell_type": "code",
   "execution_count": 45,
   "metadata": {
    "ExecuteTime": {
     "end_time": "2021-01-16T05:00:09.245161Z",
     "start_time": "2021-01-16T05:00:09.229444Z"
    }
   },
   "outputs": [
    {
     "name": "stderr",
     "output_type": "stream",
     "text": [
      "C:\\Users\\gisiq\\anaconda3\\lib\\site-packages\\pandas\\core\\generic.py:5303: SettingWithCopyWarning: \n",
      "A value is trying to be set on a copy of a slice from a DataFrame.\n",
      "Try using .loc[row_indexer,col_indexer] = value instead\n",
      "\n",
      "See the caveats in the documentation: https://pandas.pydata.org/pandas-docs/stable/user_guide/indexing.html#returning-a-view-versus-a-copy\n",
      "  self[name] = value\n"
     ]
    }
   ],
   "source": [
    "shark_attack.Country = shark_attack.Country.fillna('No Data')"
   ]
  },
  {
   "cell_type": "markdown",
   "metadata": {
    "ExecuteTime": {
     "end_time": "2021-01-16T01:45:04.870422Z",
     "start_time": "2021-01-16T01:45:04.854209Z"
    }
   },
   "source": [
    "## Coluna Area"
   ]
  },
  {
   "cell_type": "code",
   "execution_count": 46,
   "metadata": {
    "ExecuteTime": {
     "end_time": "2021-01-16T05:00:12.651986Z",
     "start_time": "2021-01-16T05:00:12.638954Z"
    }
   },
   "outputs": [
    {
     "data": {
      "text/plain": [
       "array(['California', 'Georgia', 'Hawaii', 'New South Wales', 'Colima',\n",
       "       'Pernambuco', 'Florida', 'Queensland', 'South Carolina',\n",
       "       'Cornwall', 'Westerm Australia', 'Eastern Cape Province',\n",
       "       'Hua Hin', 'Cocos Island', 'Western Australia',\n",
       "       'Alifu Alifu Atoll', 'Western Cape Province', 'New Providence',\n",
       "       'Alagoas', nan, 'Victoria', 'Kwazulu-Natal',\n",
       "       'Boi Island, Victoria', 'Galapagos Islands', 'Fernando De Noronha',\n",
       "       'Sepang', 'Holquin Province', 'Pamplemousses', 'South Australia',\n",
       "       'North Island', 'New York', 'Canary Islands', 'Upolu Island',\n",
       "       'Shizuoka Prefecture', 'Texas', 'Castellón', 'Massachusetts',\n",
       "       'Red Sea Protectorate', 'New Providence District',\n",
       "       '40 Miles Off Grand Bahama Island', 'Ascension Island', 'Majorca',\n",
       "       'Washington', 'Tabasco', 'Anjouan', 'Ibiza Island', 'Marquesas',\n",
       "       'South Devon', 'Sharjah,', 'Baja California Sur', 'Saint-Leu',\n",
       "       'South Island', 'Luzon Island', 'Great Exuma', 'Saint-Andre',\n",
       "       'Bimini', 'Bali', 'Tuamotos', 'Oregon', 'North Province',\n",
       "       'New Providence Island', 'Alicante Province', 'Hong Kong',\n",
       "       'Kochi Prefecture', 'Tasmania', 'Abaco Islands', 'Alabama',\n",
       "       'North Carolina', 'Isla Provedencia', 'Suez', 'Grand Terre',\n",
       "       'Vanua Levu', 'Santa Catarina State', 'South Province',\n",
       "       'Altagracia Province', 'Grand Cayman', 'Balneário Camboriú',\n",
       "       'Fujairah Emirate', 'Grand Canary Island', 'Inhambane Province',\n",
       "       'Phuket', 'Alicante', 'Guanacaste', 'Bora Bora',\n",
       "       'Grand Bahama Island', 'Le Port', 'Rangiroa',\n",
       "       'Saint-Gilles-Les-Bains', 'Sardinia', 'Sinaloa', 'Central Tuamotu',\n",
       "       'D\\x92Étang-Salé', 'Granada',\n",
       "       'Cargados Carajos Shoals (St. Brandon)', 'Moorea', 'Catalonia',\n",
       "       'Maryland', 'Louisiana', 'West End', 'Delaware',\n",
       "       'Atsumi Peninsula', 'Palmyra Atoll', 'Wallis And Futuna',\n",
       "       'Baie De Sainte-Marie', 'Society Islands', 'Trinidad',\n",
       "       'Okinawa Prefecture', '740 Miles Se Of Tarawa Atoll', 'New Jersey',\n",
       "       'Southern District', 'Bay Of Biscay', 'Quintana Roo',\n",
       "       'Exuma Islands', 'Saint-Paul', 'Taitung', 'Santa Cruz Island',\n",
       "       'Saint-Gilles', 'Tuamotus', 'Eleuthera', 'St. Catherine',\n",
       "       'Palawan', 'Mercury Islands', 'Delta', \"Vava'U\", 'Inner Hebrides',\n",
       "       'Saint Leu', 'Trois-Bassins', 'British Colombia', 'Guerrero',\n",
       "       'Saint-Benoit', 'Tabuk Province', 'Antofagasta Province',\n",
       "       \"St John'S\", 'Santa Elena', 'East New Britain', 'Bois-Blanc',\n",
       "       'Moray', 'Puerto Rico', 'Samaná Province', 'Coast Province',\n",
       "       'Central Province', 'Primorsky Krai',\n",
       "       'Peter The Great Bay, Khasan, Primorsky Krai (Far East)',\n",
       "       'Telyakovsky Bay, Khasan,  Primorsky Krai (Far East)', 'Praslin',\n",
       "       'Sucre', 'Middle Caicos', 'Caicos Bank', 'San Andrés Archipelago',\n",
       "       'Kedah', 'Umm Al Qaywayan Province', 'Vitu Levu',\n",
       "       'Loyalty Islands', 'Saint Gilles', 'South Sinai Peninsula',\n",
       "       'Maine', 'Virginia', \"Ha'Api\", 'Jeju Province',\n",
       "       'Binh Dinh Province', 'Antsiranana Province', 'Sinai Peninsula',\n",
       "       'Off Vanua Levu', 'Merizo', 'Rio Grande Do Sul', 'Dubai',\n",
       "       'Western Province', 'Torres Strait', 'Eastern Province',\n",
       "       'Eastern Cape  Province', 'Maputo Province', 'Bocas', 'Fife',\n",
       "       'Devon', 'Makira-Ulawa Province', 'Mombasa', 'Catalunya',\n",
       "       'St. Johns Reef', 'Off Green Island', 'North Region',\n",
       "       'Batangas Province', 'Strait Of Malacca', 'Guantanamo Province',\n",
       "       'Maranhão', 'Red Sea', 'Batanes Provine', 'Luzon',\n",
       "       'Northern Territory', 'Split-Dalmatia Count,', 'North Devon',\n",
       "       'Us Virgin Islands', 'San Carlos', 'Cabo San Lucas', 'Sussex',\n",
       "       'Bahia', 'Easter Ross', 'Guerro', 'Yasawa Islands',\n",
       "       'Northern Bahamas', 'Tokyo Bay', 'Baja California', 'Green Bay',\n",
       "       'Marovo Lagoon', 'Territory Of Cocos (Keeling) Islands',\n",
       "       'Oslo Fjord', 'Kent', 'Bird Island', 'Providenciales',\n",
       "       'Bimini Islands', 'Muhafazat Hadramawt', 'Cook Islans',\n",
       "       'Surigao Del Norte', 'Between Somalia & Yemen', 'Ambergris Caye',\n",
       "       'Saint-Pierre', 'Kentucky', 'Andros Islands', 'Guam',\n",
       "       'Western Area', '300 Miles From Antigua', '800 Miles From Land',\n",
       "       '600 Nm West Of The Canary Islands', 'Simpson Bay', 'East Wall',\n",
       "       'Inner Islands', 'Shanghai', 'Malampa Province',\n",
       "       \"South Ch'Ungch'Ong Province\", 'Bay Islands', 'New Mexico',\n",
       "       'Santa Isabel Province', 'Santiago De Cuba Province',\n",
       "       'Camaguey Province', 'Conservatória District',\n",
       "       'Kuril Islands In The Pacific', 'Wakayama Prefecture',\n",
       "       \"Nuku'Alofa\", 'Saint-Benoît',\n",
       "       'South Island, Near Karitane North Of Dunedin', 'Rocha',\n",
       "       'Northlands', 'Anzoategui', 'Cook Islands', 'Tamil Nadu',\n",
       "       'Pearl Islands', 'Taveuni', 'Johnston Atoll', 'Rio De Janeiro',\n",
       "       'Nueva Esparta', 'Southland', 'North Pacific Coast',\n",
       "       'Caroline Islands', 'Cheshire', 'Louisiade Archipelago',\n",
       "       'Kwazulu-Natal Between Port Edward And Port St Johns',\n",
       "       'Milne Bay Province', 'Rayong Province',\n",
       "       'Zamboanga Del Sur Province', 'Rio Grande De Norte',\n",
       "       'Off The Western Coast Of Peninsular Malaysia', 'New Brunswick',\n",
       "       'Miyako Island', 'Alaska', 'Minerva Reef', 'Madang Province',\n",
       "       'Worcestershire', 'Phang Nga Province', 'Alinglaplap Atoll',\n",
       "       'Adriatic Sea', 'Ralik Chain', 'Grand Baie',\n",
       "       \"L' Etang Salé-Les-Bains\", 'Southern Japan', 'Cap Vert Peninsula',\n",
       "       'Marches Region', 'Berry Islands', 'Transvaal', 'Gaza',\n",
       "       \"Grand'Anse\", 'Beaufonds', 'Miyako', 'Chatham Islands',\n",
       "       'South Sinai, Gulf Of Aqaba', 'Cat Cay', 'Missouri',\n",
       "       '12 Miles Off The North Coast',\n",
       "       'Chatham Islands, East Of New  Zealand', 'Saint-Denis',\n",
       "       'Vava\\x92U', 'Mississippi', 'Clearwater Bay', 'New Territories',\n",
       "       'Aichi Prefecture', 'Banaadir Region', 'La Libertad',\n",
       "       'Costa Blanca', 'Walkers Cay', 'Tongapatu Group', 'West Africa',\n",
       "       'Wakaya Island', 'Ehime Prefecture', 'Saint-Joseph',\n",
       "       'Mexico / Caribbean Sea', 'Antarctic Ocean', 'La Saline-Les-Bains',\n",
       "       'Ligurian Sea', \"L'Etang-Salé\", 'Kowloon Peninsula',\n",
       "       'Port Shelter', 'Laucala Island', 'Sainte-Marie',\n",
       "       'Great Exuma Island', 'Sainte-Suzanne', 'Tuscany',\n",
       "       'Tyrrhenian Sea', 'New Ireland', 'Valpariso Province',\n",
       "       'Viscayan Sea', 'Saint-Louis', 'Mindoro',\n",
       "       'Between Dr And Puerto Rico', 'Between Honiara & Isabel Island',\n",
       "       'Florida Straits', 'Cádiz', 'Sicily', 'Andikira Fokithes',\n",
       "       'Central Philippines', 'Rhode Island', 'Northwest Italy',\n",
       "       'English Channel', 'North & South Carolina', 'Biserta',\n",
       "       'Saint-Philippe', 'Chungnam', 'Eronogo Region', 'Coquimbo',\n",
       "       'Pagasitikos Gulf', \"St. Mary'S Parish\", 'Romblon Province',\n",
       "       'Lamu Archipelago', 'Los Vilos', 'Island Of Kos',\n",
       "       'Madeira Islands', 'Southern Thailand', 'Ralik Archipelago',\n",
       "       'South China Sea 200 Miles From Hong Kong',\n",
       "       'Reggio Calabria Province', 'Mirs Bay', 'Genoa Province',\n",
       "       'Ganges-Brahmaputra Delta', 'Aulong Island',\n",
       "       'Western Caroline Islands', 'Antibes', 'Illeginni Atoll',\n",
       "       'Istria County', 'Between Beira & Maputo', 'Inhambe Province',\n",
       "       'Namonuito Atoll', 'Eastern Caroline Islands',\n",
       "       'Western Caroline Islands (North Pacific Ocean)', 'Caribbean Sea',\n",
       "       'St. Andrew Parish', '200 Nm Southeast Of Manila', 'Limpopo River',\n",
       "       'New Ireland Province', 'Zadar County', 'Basrah', 'Clarendon',\n",
       "       'Moro Gulf', 'Johor', 'Magdalena Department', 'Mafia Island',\n",
       "       'Gulf Province', 'Morobe Province', 'Limón Province', 'Anatolia'],\n",
       "      dtype=object)"
      ]
     },
     "execution_count": 46,
     "metadata": {},
     "output_type": "execute_result"
    }
   ],
   "source": [
    "shark_attack.Area.unique()"
   ]
  },
  {
   "cell_type": "code",
   "execution_count": 47,
   "metadata": {
    "ExecuteTime": {
     "end_time": "2021-01-16T05:00:16.155039Z",
     "start_time": "2021-01-16T05:00:16.132458Z"
    }
   },
   "outputs": [
    {
     "data": {
      "text/plain": [
       "Florida                  827\n",
       "Hawaii                   207\n",
       "California               203\n",
       "New South Wales          190\n",
       "Western Cape Province    130\n",
       "Queensland               115\n",
       "Eastern Cape Province    114\n",
       "Western Australia        110\n",
       "South Carolina            93\n",
       "Kwazulu-Natal             90\n",
       "North Carolina            76\n",
       "Pernambuco                67\n",
       "South Australia           52\n",
       "Texas                     44\n",
       "Victoria                  38\n",
       "Oregon                    29\n",
       "North Island              24\n",
       "Abaco Islands             21\n",
       "South Island              21\n",
       "Tasmania                  17\n",
       "South Province            11\n",
       "Alabama                   10\n",
       "Grand Bahama Island       10\n",
       "Virginia                  10\n",
       "Quintana Roo              10\n",
       "Rio De Janeiro            10\n",
       "North Province             9\n",
       "Gaza                       9\n",
       "Guerrero                   9\n",
       "Massachusetts              8\n",
       "Name: Area, dtype: int64"
      ]
     },
     "execution_count": 47,
     "metadata": {},
     "output_type": "execute_result"
    }
   ],
   "source": [
    "shark_attack['Area'].value_counts().head(30)"
   ]
  },
  {
   "cell_type": "code",
   "execution_count": 48,
   "metadata": {
    "ExecuteTime": {
     "end_time": "2021-01-16T05:00:19.514202Z",
     "start_time": "2021-01-16T05:00:19.503929Z"
    }
   },
   "outputs": [
    {
     "data": {
      "text/plain": [
       "127"
      ]
     },
     "execution_count": 48,
     "metadata": {},
     "output_type": "execute_result"
    }
   ],
   "source": [
    "shark_attack.Area.isnull().sum()"
   ]
  },
  {
   "cell_type": "code",
   "execution_count": 49,
   "metadata": {
    "ExecuteTime": {
     "end_time": "2021-01-16T05:00:22.611007Z",
     "start_time": "2021-01-16T05:00:22.590676Z"
    }
   },
   "outputs": [
    {
     "name": "stderr",
     "output_type": "stream",
     "text": [
      "C:\\Users\\gisiq\\anaconda3\\lib\\site-packages\\pandas\\core\\generic.py:5303: SettingWithCopyWarning: \n",
      "A value is trying to be set on a copy of a slice from a DataFrame.\n",
      "Try using .loc[row_indexer,col_indexer] = value instead\n",
      "\n",
      "See the caveats in the documentation: https://pandas.pydata.org/pandas-docs/stable/user_guide/indexing.html#returning-a-view-versus-a-copy\n",
      "  self[name] = value\n"
     ]
    }
   ],
   "source": [
    "shark_attack.Area = shark_attack.Area.fillna('No Data')"
   ]
  },
  {
   "cell_type": "markdown",
   "metadata": {
    "ExecuteTime": {
     "end_time": "2021-01-15T23:41:05.136275Z",
     "start_time": "2021-01-15T23:41:05.125306Z"
    }
   },
   "source": [
    "## Coluna Type\n",
    "Types of attack\n",
    "\n",
    "- PROVOKED\n",
    "Provoked attacks occur when a human touches, hooks, nets, or otherwise aggravates the animal. Incidents that occur outside of a shark's natural habitat, such as aquariums and research holding-pens, are considered provoked, as are all incidents involving captured sharks. Sometimes humans inadvertently provoke an attack, such as when a surfer accidentally hits a shark with a surf board.\n",
    "\n",
    "- UNPROVOKED\n",
    "Hit-and-run attack\n",
    "Sneak Attack\n",
    "Bump-and-bite attack\n",
    "\n",
    "Font: https://en.wikipedia.org/wiki/Shark_attack#Types_of_attacks\n"
   ]
  },
  {
   "cell_type": "code",
   "execution_count": 50,
   "metadata": {
    "ExecuteTime": {
     "end_time": "2021-01-16T05:00:25.705627Z",
     "start_time": "2021-01-16T05:00:25.684971Z"
    }
   },
   "outputs": [
    {
     "data": {
      "text/plain": [
       "0"
      ]
     },
     "execution_count": 50,
     "metadata": {},
     "output_type": "execute_result"
    }
   ],
   "source": [
    "shark_attack.Area.isnull().sum()"
   ]
  },
  {
   "cell_type": "code",
   "execution_count": 51,
   "metadata": {
    "ExecuteTime": {
     "end_time": "2021-01-16T05:00:29.237805Z",
     "start_time": "2021-01-16T05:00:29.206325Z"
    }
   },
   "outputs": [
    {
     "data": {
      "text/plain": [
       "Unprovoked      2581\n",
       "Provoked         247\n",
       "Invalid          230\n",
       "Boating           90\n",
       "Boat              61\n",
       "Sea Disaster      53\n",
       "Questionable       2\n",
       "Boatomg            1\n",
       "Name: Type, dtype: int64"
      ]
     },
     "execution_count": 51,
     "metadata": {},
     "output_type": "execute_result"
    }
   ],
   "source": [
    "shark_attack.Type.value_counts()"
   ]
  },
  {
   "cell_type": "code",
   "execution_count": 52,
   "metadata": {
    "ExecuteTime": {
     "end_time": "2021-01-16T05:00:32.138735Z",
     "start_time": "2021-01-16T05:00:32.123276Z"
    }
   },
   "outputs": [
    {
     "name": "stderr",
     "output_type": "stream",
     "text": [
      "C:\\Users\\gisiq\\anaconda3\\lib\\site-packages\\pandas\\core\\generic.py:5303: SettingWithCopyWarning: \n",
      "A value is trying to be set on a copy of a slice from a DataFrame.\n",
      "Try using .loc[row_indexer,col_indexer] = value instead\n",
      "\n",
      "See the caveats in the documentation: https://pandas.pydata.org/pandas-docs/stable/user_guide/indexing.html#returning-a-view-versus-a-copy\n",
      "  self[name] = value\n"
     ]
    },
    {
     "data": {
      "text/plain": [
       "Unprovoked      2581\n",
       "Provoked         247\n",
       "No Data          232\n",
       "Boat             152\n",
       "Sea Disaster      53\n",
       "Name: Type, dtype: int64"
      ]
     },
     "execution_count": 52,
     "metadata": {},
     "output_type": "execute_result"
    }
   ],
   "source": [
    "shark_attack.Type = shark_attack.Type.replace({'Boating' : 'Boat', 'Boatomg': 'Boat', 'Invalid':'No Data', 'Questionable':'No Data'})\n",
    "shark_attack.Type.value_counts()"
   ]
  },
  {
   "cell_type": "markdown",
   "metadata": {},
   "source": [
    "# Exportando csv limpo"
   ]
  },
  {
   "cell_type": "code",
   "execution_count": 53,
   "metadata": {
    "ExecuteTime": {
     "end_time": "2021-01-16T05:00:36.494767Z",
     "start_time": "2021-01-16T05:00:36.454877Z"
    }
   },
   "outputs": [],
   "source": [
    "shark_attack.to_csv(\"../../shark_project/shark_attack/attacks_clean.csv\", encoding='latin1', index = False)"
   ]
  },
  {
   "cell_type": "code",
   "execution_count": null,
   "metadata": {},
   "outputs": [],
   "source": []
  }
 ],
 "metadata": {
  "kernelspec": {
   "display_name": "Python 3",
   "language": "python",
   "name": "python3"
  },
  "language_info": {
   "codemirror_mode": {
    "name": "ipython",
    "version": 3
   },
   "file_extension": ".py",
   "mimetype": "text/x-python",
   "name": "python",
   "nbconvert_exporter": "python",
   "pygments_lexer": "ipython3",
   "version": "3.8.3"
  },
  "toc": {
   "base_numbering": 1,
   "nav_menu": {},
   "number_sections": true,
   "sideBar": true,
   "skip_h1_title": false,
   "title_cell": "Table of Contents",
   "title_sidebar": "Contents",
   "toc_cell": false,
   "toc_position": {},
   "toc_section_display": true,
   "toc_window_display": false
  },
  "varInspector": {
   "cols": {
    "lenName": 16,
    "lenType": 16,
    "lenVar": 40
   },
   "kernels_config": {
    "python": {
     "delete_cmd_postfix": "",
     "delete_cmd_prefix": "del ",
     "library": "var_list.py",
     "varRefreshCmd": "print(var_dic_list())"
    },
    "r": {
     "delete_cmd_postfix": ") ",
     "delete_cmd_prefix": "rm(",
     "library": "var_list.r",
     "varRefreshCmd": "cat(var_dic_list()) "
    }
   },
   "types_to_exclude": [
    "module",
    "function",
    "builtin_function_or_method",
    "instance",
    "_Feature"
   ],
   "window_display": false
  }
 },
 "nbformat": 4,
 "nbformat_minor": 4
}
