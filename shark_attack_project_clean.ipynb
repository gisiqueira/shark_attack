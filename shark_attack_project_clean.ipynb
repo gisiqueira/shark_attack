{
 "cells": [
  {
   "cell_type": "markdown",
   "metadata": {
    "ExecuteTime": {
     "end_time": "2021-01-15T19:46:33.266708Z",
     "start_time": "2021-01-15T19:46:33.250701Z"
    }
   },
   "source": [
    "# propósito da análise"
   ]
  },
  {
   "cell_type": "markdown",
   "metadata": {},
   "source": [
    "## importando bibliotecas e o arquivo"
   ]
  },
  {
   "cell_type": "code",
   "execution_count": null,
   "metadata": {
    "ExecuteTime": {
     "end_time": "2021-01-16T01:52:40.515102Z",
     "start_time": "2021-01-16T01:52:39.953904Z"
    }
   },
   "outputs": [],
   "source": [
    "import pandas as pd\n",
    "import numpy as np\n",
    "import re"
   ]
  },
  {
   "cell_type": "code",
   "execution_count": null,
   "metadata": {
    "ExecuteTime": {
     "end_time": "2021-01-16T01:52:41.481689Z",
     "start_time": "2021-01-16T01:52:41.327682Z"
    }
   },
   "outputs": [],
   "source": [
    "df=pd.read_csv(\"../../shark_project/shark_attack/attacks.csv\", encoding='latin1')"
   ]
  },
  {
   "cell_type": "markdown",
   "metadata": {},
   "source": [
    "## explorando"
   ]
  },
  {
   "cell_type": "code",
   "execution_count": null,
   "metadata": {
    "ExecuteTime": {
     "end_time": "2021-01-16T01:52:43.998950Z",
     "start_time": "2021-01-16T01:52:43.866513Z"
    }
   },
   "outputs": [],
   "source": [
    "df"
   ]
  },
  {
   "cell_type": "code",
   "execution_count": null,
   "metadata": {
    "ExecuteTime": {
     "end_time": "2021-01-16T01:52:46.175083Z",
     "start_time": "2021-01-16T01:52:46.163372Z"
    }
   },
   "outputs": [],
   "source": [
    "df.shape"
   ]
  },
  {
   "cell_type": "code",
   "execution_count": null,
   "metadata": {
    "ExecuteTime": {
     "end_time": "2021-01-16T01:52:48.416796Z",
     "start_time": "2021-01-16T01:52:48.391030Z"
    }
   },
   "outputs": [],
   "source": [
    "df.columns"
   ]
  },
  {
   "cell_type": "code",
   "execution_count": null,
   "metadata": {
    "ExecuteTime": {
     "end_time": "2021-01-16T01:52:50.948584Z",
     "start_time": "2021-01-16T01:52:50.873425Z"
    }
   },
   "outputs": [],
   "source": [
    "df.info()"
   ]
  },
  {
   "cell_type": "code",
   "execution_count": null,
   "metadata": {
    "ExecuteTime": {
     "end_time": "2021-01-16T01:52:53.223113Z",
     "start_time": "2021-01-16T01:52:53.166040Z"
    }
   },
   "outputs": [],
   "source": [
    "df.isnull().sum()"
   ]
  },
  {
   "cell_type": "code",
   "execution_count": null,
   "metadata": {
    "ExecuteTime": {
     "end_time": "2021-01-16T01:52:55.392315Z",
     "start_time": "2021-01-16T01:52:55.354639Z"
    }
   },
   "outputs": [],
   "source": [
    "# O que as últimas colunas contem?\n",
    "df[['Case Number.1', 'Case Number.2', 'original order', 'Unnamed: 22', 'Unnamed: 23']].head()"
   ]
  },
  {
   "cell_type": "code",
   "execution_count": null,
   "metadata": {
    "ExecuteTime": {
     "end_time": "2021-01-16T01:52:57.644494Z",
     "start_time": "2021-01-16T01:52:57.633930Z"
    }
   },
   "outputs": [],
   "source": [
    "# essas colunas não contém informações relevantes para a minha análise e podem ser removidas"
   ]
  },
  {
   "cell_type": "code",
   "execution_count": null,
   "metadata": {
    "ExecuteTime": {
     "end_time": "2021-01-16T01:53:00.290965Z",
     "start_time": "2021-01-16T01:53:00.152830Z"
    }
   },
   "outputs": [],
   "source": [
    "# Existem linhas duplicadas?\n",
    "print('Linhas duplicadas:' )\n",
    "print(df.duplicated().sum())"
   ]
  },
  {
   "cell_type": "code",
   "execution_count": null,
   "metadata": {},
   "outputs": [],
   "source": []
  },
  {
   "cell_type": "markdown",
   "metadata": {},
   "source": [
    "# Limpeza"
   ]
  },
  {
   "cell_type": "markdown",
   "metadata": {},
   "source": [
    "## Remover duplicatas"
   ]
  },
  {
   "cell_type": "code",
   "execution_count": null,
   "metadata": {
    "ExecuteTime": {
     "end_time": "2021-01-16T01:53:04.458823Z",
     "start_time": "2021-01-16T01:53:04.379229Z"
    }
   },
   "outputs": [],
   "source": [
    "shark_attack = df.drop_duplicates()\n",
    "print('Número de duplicatas removidas: ', len(df) - len(shark_attack))"
   ]
  },
  {
   "cell_type": "code",
   "execution_count": null,
   "metadata": {
    "ExecuteTime": {
     "end_time": "2021-01-16T01:53:07.112252Z",
     "start_time": "2021-01-16T01:53:07.094814Z"
    }
   },
   "outputs": [],
   "source": [
    "shark_attack.shape"
   ]
  },
  {
   "cell_type": "markdown",
   "metadata": {},
   "source": [
    "## Remover colunas irrelevantes"
   ]
  },
  {
   "cell_type": "code",
   "execution_count": null,
   "metadata": {
    "ExecuteTime": {
     "end_time": "2021-01-16T01:53:10.028891Z",
     "start_time": "2021-01-16T01:53:10.015511Z"
    }
   },
   "outputs": [],
   "source": [
    "shark_attack = shark_attack.drop(['Case Number', 'Date','Location','Name','Sex ','Age','Time', 'Species ','Investigator or Source', 'pdf', 'href formula', 'href','Case Number.1', 'Case Number.2', 'original order', 'Unnamed: 22', 'Unnamed: 23'], axis =1)"
   ]
  },
  {
   "cell_type": "code",
   "execution_count": null,
   "metadata": {
    "ExecuteTime": {
     "end_time": "2021-01-16T01:53:12.822915Z",
     "start_time": "2021-01-16T01:53:12.814823Z"
    }
   },
   "outputs": [],
   "source": [
    "shark_attack.columns"
   ]
  },
  {
   "cell_type": "code",
   "execution_count": null,
   "metadata": {
    "ExecuteTime": {
     "end_time": "2021-01-16T01:53:15.343127Z",
     "start_time": "2021-01-16T01:53:15.259572Z"
    }
   },
   "outputs": [],
   "source": [
    "shark_attack.loc[:, \"Country\":\"Activity\"] = shark_attack.loc[:, \"Country\":\"Activity\"].transform(lambda series: series.str.strip().str.title())"
   ]
  },
  {
   "cell_type": "code",
   "execution_count": null,
   "metadata": {
    "ExecuteTime": {
     "end_time": "2021-01-16T01:53:17.690245Z",
     "start_time": "2021-01-16T01:53:17.651691Z"
    }
   },
   "outputs": [],
   "source": [
    "shark_attack.head(10)"
   ]
  },
  {
   "cell_type": "code",
   "execution_count": null,
   "metadata": {
    "ExecuteTime": {
     "end_time": "2021-01-16T01:53:20.163976Z",
     "start_time": "2021-01-16T01:53:20.132191Z"
    }
   },
   "outputs": [],
   "source": [
    "shark_attack = shark_attack.rename(columns={'Fatal (Y/N)': 'Fatal'})"
   ]
  },
  {
   "cell_type": "code",
   "execution_count": null,
   "metadata": {
    "ExecuteTime": {
     "end_time": "2021-01-16T01:53:23.062183Z",
     "start_time": "2021-01-16T01:53:23.019154Z"
    }
   },
   "outputs": [],
   "source": [
    "shark_attack.info()"
   ]
  },
  {
   "cell_type": "code",
   "execution_count": null,
   "metadata": {
    "ExecuteTime": {
     "end_time": "2021-01-16T01:53:25.496582Z",
     "start_time": "2021-01-16T01:53:25.462940Z"
    },
    "scrolled": true
   },
   "outputs": [],
   "source": [
    "shark_attack.isnull().sum()"
   ]
  },
  {
   "cell_type": "markdown",
   "metadata": {},
   "source": [
    "## Limpeza da coluna Year"
   ]
  },
  {
   "cell_type": "markdown",
   "metadata": {},
   "source": [
    "Quero considerar os ataques que aconteceram nos últimos 50 anos"
   ]
  },
  {
   "cell_type": "code",
   "execution_count": null,
   "metadata": {
    "ExecuteTime": {
     "end_time": "2021-01-16T01:53:29.148914Z",
     "start_time": "2021-01-16T01:53:29.138118Z"
    }
   },
   "outputs": [],
   "source": [
    "shark_attack['Year'].unique()"
   ]
  },
  {
   "cell_type": "code",
   "execution_count": null,
   "metadata": {
    "ExecuteTime": {
     "end_time": "2021-01-16T01:53:32.130302Z",
     "start_time": "2021-01-16T01:53:32.115754Z"
    }
   },
   "outputs": [],
   "source": [
    "shark_attack.Year.isnull().sum()"
   ]
  },
  {
   "cell_type": "code",
   "execution_count": null,
   "metadata": {
    "ExecuteTime": {
     "end_time": "2021-01-16T01:53:34.670386Z",
     "start_time": "2021-01-16T01:53:34.637135Z"
    }
   },
   "outputs": [],
   "source": [
    "shark_attack = shark_attack.dropna(subset=['Year'])"
   ]
  },
  {
   "cell_type": "code",
   "execution_count": null,
   "metadata": {
    "ExecuteTime": {
     "end_time": "2021-01-16T01:53:37.099867Z",
     "start_time": "2021-01-16T01:53:37.088392Z"
    }
   },
   "outputs": [],
   "source": [
    "shark_attack.Year.isnull().sum()"
   ]
  },
  {
   "cell_type": "code",
   "execution_count": null,
   "metadata": {
    "ExecuteTime": {
     "end_time": "2021-01-16T01:53:39.340664Z",
     "start_time": "2021-01-16T01:53:39.316125Z"
    }
   },
   "outputs": [],
   "source": [
    "shark_attack.Year = shark_attack.Year.astype(np.int64)\n",
    "shark_attack['Year'].unique()"
   ]
  },
  {
   "cell_type": "code",
   "execution_count": null,
   "metadata": {
    "ExecuteTime": {
     "end_time": "2021-01-16T01:53:42.079832Z",
     "start_time": "2021-01-16T01:53:42.036671Z"
    }
   },
   "outputs": [],
   "source": [
    "shark_attack = shark_attack[shark_attack['Year'] > 1967] \n",
    "\n",
    "shark_attack"
   ]
  },
  {
   "cell_type": "markdown",
   "metadata": {
    "ExecuteTime": {
     "end_time": "2021-01-16T01:21:11.903824Z",
     "start_time": "2021-01-16T01:21:11.893413Z"
    }
   },
   "source": [
    "## Coluna Fatal"
   ]
  },
  {
   "cell_type": "code",
   "execution_count": null,
   "metadata": {
    "ExecuteTime": {
     "end_time": "2021-01-16T01:53:49.089988Z",
     "start_time": "2021-01-16T01:53:49.078003Z"
    }
   },
   "outputs": [],
   "source": [
    "shark_attack[\"Fatal\"].unique()"
   ]
  },
  {
   "cell_type": "code",
   "execution_count": null,
   "metadata": {
    "ExecuteTime": {
     "end_time": "2021-01-16T01:53:52.030119Z",
     "start_time": "2021-01-16T01:53:52.013171Z"
    }
   },
   "outputs": [],
   "source": [
    "shark_attack.Fatal.isnull().sum()"
   ]
  },
  {
   "cell_type": "code",
   "execution_count": null,
   "metadata": {
    "ExecuteTime": {
     "end_time": "2021-01-16T01:53:54.321812Z",
     "start_time": "2021-01-16T01:53:54.303794Z"
    }
   },
   "outputs": [],
   "source": [
    "shark_attack = shark_attack.fillna('No Data')"
   ]
  },
  {
   "cell_type": "code",
   "execution_count": null,
   "metadata": {
    "ExecuteTime": {
     "end_time": "2021-01-16T01:53:56.742294Z",
     "start_time": "2021-01-16T01:53:56.715697Z"
    }
   },
   "outputs": [],
   "source": [
    "shark_attack['Fatal']=shark_attack['Fatal'].replace({'UNKNOWN':'No Data', 'Unknown':'No Data', 'M':'N', '2017':'No Data'})\n",
    "shark_attack['Fatal'].unique()"
   ]
  },
  {
   "cell_type": "code",
   "execution_count": null,
   "metadata": {
    "ExecuteTime": {
     "end_time": "2021-01-16T01:53:58.989199Z",
     "start_time": "2021-01-16T01:53:58.965054Z"
    }
   },
   "outputs": [],
   "source": [
    "shark_attack['Fatal'].value_counts()"
   ]
  },
  {
   "cell_type": "markdown",
   "metadata": {},
   "source": [
    "## coluna País"
   ]
  },
  {
   "cell_type": "code",
   "execution_count": null,
   "metadata": {
    "ExecuteTime": {
     "end_time": "2021-01-16T01:54:03.274130Z",
     "start_time": "2021-01-16T01:54:03.253517Z"
    }
   },
   "outputs": [],
   "source": [
    "shark_attack.Country.unique()"
   ]
  },
  {
   "cell_type": "code",
   "execution_count": null,
   "metadata": {
    "ExecuteTime": {
     "end_time": "2021-01-16T01:54:06.386423Z",
     "start_time": "2021-01-16T01:54:06.353015Z"
    }
   },
   "outputs": [],
   "source": [
    "shark_attack.Country.value_counts().head(20)"
   ]
  },
  {
   "cell_type": "markdown",
   "metadata": {
    "ExecuteTime": {
     "end_time": "2021-01-16T01:45:04.870422Z",
     "start_time": "2021-01-16T01:45:04.854209Z"
    }
   },
   "source": [
    "## Coluna Area"
   ]
  },
  {
   "cell_type": "code",
   "execution_count": null,
   "metadata": {
    "ExecuteTime": {
     "end_time": "2021-01-16T01:54:09.560318Z",
     "start_time": "2021-01-16T01:54:09.539971Z"
    }
   },
   "outputs": [],
   "source": [
    "shark_attack['Area'].value_counts().head(30)"
   ]
  },
  {
   "cell_type": "code",
   "execution_count": null,
   "metadata": {
    "ExecuteTime": {
     "end_time": "2021-01-16T01:51:23.679716Z",
     "start_time": "2021-01-16T01:51:23.666110Z"
    }
   },
   "outputs": [],
   "source": []
  },
  {
   "cell_type": "markdown",
   "metadata": {
    "ExecuteTime": {
     "end_time": "2021-01-15T23:41:05.136275Z",
     "start_time": "2021-01-15T23:41:05.125306Z"
    }
   },
   "source": [
    "## Tipo\n",
    "Types of attack\n",
    "The GSAF categorizes scavenging bites on humans as \"questionable incidents.\"\n",
    "\n",
    "- PROVOKED\n",
    "Provoked attacks occur when a human touches, hooks, nets, or otherwise aggravates the animal. Incidents that occur outside of a shark's natural habitat, such as aquariums and research holding-pens, are considered provoked, as are all incidents involving captured sharks. Sometimes humans inadvertently provoke an attack, such as when a surfer accidentally hits a shark with a surf board.\n",
    "\n",
    "- UNPROVOKED\n",
    "Hit-and-run attack\n",
    "Sneak Attack\n",
    "Bump-and-bite attack\n",
    "For more information on how to differentiate PROVOKED vs UNPROVOKED attacks : https://en.wikipedia.org/wiki/Shark_attack#Types_of_attacks\n",
    "\n",
    "TYPE OF ATTACK (Considering Injuries)\n",
    "I wanted to use the information on the Injury column to define if the human hooked, shot, or provoked the shark. However, after mapping the Injury column, I noticed that the ammount of Provoked attacks count from this mapping technique varied very slightly from the number of provoked attacks on the Type column. A decission was made to disregard these two additional cases.\n",
    "Size of the shark according to Species column"
   ]
  },
  {
   "cell_type": "code",
   "execution_count": null,
   "metadata": {
    "ExecuteTime": {
     "end_time": "2021-01-16T01:54:19.205524Z",
     "start_time": "2021-01-16T01:54:19.184310Z"
    }
   },
   "outputs": [],
   "source": [
    "shark_attack.Type.value_counts()"
   ]
  },
  {
   "cell_type": "code",
   "execution_count": null,
   "metadata": {
    "ExecuteTime": {
     "end_time": "2021-01-16T01:54:26.143104Z",
     "start_time": "2021-01-16T01:54:26.119000Z"
    }
   },
   "outputs": [],
   "source": [
    "shark_attack.Type = shark_attack.Type.replace({'Boating' : 'Boat', 'Boatomg': 'Boat', 'Invalid':'No Data', 'Questionable':'No Data'})\n",
    "shark_attack.Type.value_counts()"
   ]
  },
  {
   "cell_type": "code",
   "execution_count": null,
   "metadata": {},
   "outputs": [],
   "source": []
  },
  {
   "cell_type": "code",
   "execution_count": null,
   "metadata": {},
   "outputs": [],
   "source": []
  },
  {
   "cell_type": "markdown",
   "metadata": {},
   "source": [
    "## Coluna Activity"
   ]
  },
  {
   "cell_type": "code",
   "execution_count": null,
   "metadata": {
    "ExecuteTime": {
     "end_time": "2021-01-16T01:54:36.390347Z",
     "start_time": "2021-01-16T01:54:36.368535Z"
    }
   },
   "outputs": [],
   "source": [
    "shark_attack[\"Activity\"].unique()"
   ]
  },
  {
   "cell_type": "code",
   "execution_count": null,
   "metadata": {
    "ExecuteTime": {
     "end_time": "2021-01-16T01:55:51.084144Z",
     "start_time": "2021-01-16T01:55:51.074192Z"
    }
   },
   "outputs": [],
   "source": [
    "shark_attack.Activity.value_counts().head(30)"
   ]
  },
  {
   "cell_type": "code",
   "execution_count": null,
   "metadata": {
    "ExecuteTime": {
     "end_time": "2021-01-16T01:55:58.027428Z",
     "start_time": "2021-01-16T01:55:58.017246Z"
    }
   },
   "outputs": [],
   "source": [
    "shark_attack.Activity.isnull().sum()"
   ]
  },
  {
   "cell_type": "code",
   "execution_count": null,
   "metadata": {
    "ExecuteTime": {
     "end_time": "2021-01-16T00:41:36.296361Z",
     "start_time": "2021-01-16T00:41:36.292441Z"
    }
   },
   "outputs": [],
   "source": [
    "#testes\n",
    "\n",
    "#shark_attack2 = shark_attack[\"Activity\"].str.replace('.*([Dd]iv).*',\"Diving\")\n",
    "#shark_attack2 = shark_attack[\"Activity\"].str.replace('.*([Pp]addl).*',\"Paddling\")\n",
    "#shark_attack2 = shark_attack[\"Activity\"].str.replace('.*([Ss]wim).*',\"Swimming\")\n",
    "#shark_attack2 = shark_attack[\"Activity\"].str.replace('.*([Ff]ish).*',\"Fishing\")\n",
    "#shark_attack2 = shark_attack[\"Activity\"].str.replace('.*([Ss]urf).*',\"Surfing\")\n"
   ]
  },
  {
   "cell_type": "code",
   "execution_count": null,
   "metadata": {
    "ExecuteTime": {
     "end_time": "2021-01-16T02:18:33.115819Z",
     "start_time": "2021-01-16T02:18:33.104796Z"
    }
   },
   "outputs": [],
   "source": [
    "most_attacked_activity = shark_attack"
   ]
  },
  {
   "cell_type": "code",
   "execution_count": null,
   "metadata": {},
   "outputs": [],
   "source": []
  },
  {
   "cell_type": "code",
   "execution_count": null,
   "metadata": {
    "ExecuteTime": {
     "end_time": "2021-01-16T02:18:47.894378Z",
     "start_time": "2021-01-16T02:18:47.854980Z"
    }
   },
   "outputs": [],
   "source": [
    "# Boat, Boating and Boatomg to 1 category\n",
    "category = lambda x: 'Surfing' if 'Surfing' in x or 'Windsurfing' in x or 'Surf' in x or 'Body Boarding' in x or 'Boogie Boarding' in x else x\n",
    "most_attacked_activity.Activity = shark_attack.Activity.map(category)\n",
    "\n",
    "# Boat, Boating and Boatomg to 1 category\n",
    "category = lambda x: 'Swimming' if 'Swimming' in x  or 'Swim' in x or 'Snorkeling' in x or 'Floating' in x else x\n",
    "most_attacked_activity.Activity = shark_attack.Activity.map(category)\n",
    "\n",
    "# Boat, Boating and Boatomg to 1 category\n",
    "category = lambda x: 'Wading' if 'Wading' in x or 'Standing' in x else x\n",
    "most_attacked_activity.Activity = shark_attack.Activity.map(category)\n",
    "\n",
    "# Boat, Boating and Boatomg to 1 category\n",
    "category = lambda x: 'Diving' if 'Diving' in x or 'Spearfishing' in x else x\n",
    "most_attacked_activity.Activity = shark_attack.Activity.map(category)\n",
    "\n",
    "# Boat, Boating and Boatomg to 1 category\n",
    "category = lambda x: 'Fishing' if 'Fishing' in x else x\n",
    "most_attacked_activity.Activity = shark_attack.Activity.map(category)\n",
    "\n",
    "# Boat, Boating and Boatomg to 1 category\n",
    "category = lambda x: 'Boat' if 'Boat' in x or 'Paddling' in x or 'Paddle' in x or 'Kayaking' in x else x\n",
    "most_attacked_activity.Activity = shark_attack.Activity.map(category)\n",
    "\n",
    "\n",
    "most_attacked_activity.Activity.value_counts().head(20)"
   ]
  },
  {
   "cell_type": "code",
   "execution_count": null,
   "metadata": {},
   "outputs": [],
   "source": []
  },
  {
   "cell_type": "code",
   "execution_count": null,
   "metadata": {
    "ExecuteTime": {
     "end_time": "2021-01-16T02:04:33.049071Z",
     "start_time": "2021-01-16T02:04:33.027152Z"
    },
    "cell_style": "center"
   },
   "outputs": [],
   "source": [
    "# Separar as atividades por Categorias\n",
    "\n",
    "#Surfing\n",
    "shark['Activity_Category'] = shark.Activity.map(lambda x: 'Surfing' if 'Surfing' in x or 'Windsurfing' in x or 'Surf' in x \n",
    "                                               or 'Body Boarding' in x or 'Boogie Boarding' in x else x)\n",
    "\n",
    "shark['Activity_Category'] = shark.Activity.map(lambda x: 'Swimming' if 'Swimming' in x  or 'Snorkeling' in x else x)\n",
    "#shark['Activity_Category'] = shark.Activity.map(category2)\n",
    "\n",
    "\n",
    "\n",
    "\n",
    "#Surfing\n",
    "#category1 = lambda x: 'Surfing' if 'Surfing' in x or 'Windsurfing' in x or 'Surf' in x or 'Body Boarding' in x or 'Boogie Boarding' in x else x\n",
    "#shark['Activity_Category'] = shark.Activity.map(category1)\n",
    "# = shark.Activity.map(category1\n",
    "\n",
    "# Swimming\n",
    "#category2 = lambda x: 'Swimming' if 'Swimming' in x  or 'Snorkeling' in x else x\n",
    "#shark['Activity_Category'] = shark.Activity.map(category2)\n",
    "\n",
    "# Wading\n",
    "#category = lambda x: 'Wading' if 'Wading' in x or 'Standing' in x or 'Walking' else x\n",
    "#shark['Activity_Category'] = shark.Activity.map(category2)\n",
    "\n",
    "# Diving\n",
    "#category = lambda x: 'Diving' if 'Diving' in x or 'Spearfishing' in x else x\n",
    "#shark_attack.Activity = shark_attack.Activity.map(category)\n",
    "\n",
    "# Fishing\n",
    "#category = lambda x: 'Fishing' if 'Fishing' in x else x\n",
    "#shark_attack.Activity = shark_attack.Activity.map(category)\n",
    "\n",
    "# Boating\n",
    "#category = lambda x: 'Boat' if 'Boat' in x or 'Paddling' in x or 'Paddle' in x or 'Kayaking' in x or 'Boating' in x else x\n",
    "#shark_attack.Activity = shark_attack.Activity.map(category)\n",
    "\n",
    "#shark_attack.Activity.value_counts().head(20)"
   ]
  },
  {
   "cell_type": "code",
   "execution_count": null,
   "metadata": {
    "ExecuteTime": {
     "end_time": "2021-01-16T02:04:36.514244Z",
     "start_time": "2021-01-16T02:04:36.485075Z"
    },
    "scrolled": true
   },
   "outputs": [],
   "source": [
    "shark.Activity_Category.value_counts().head(15)\n"
   ]
  },
  {
   "cell_type": "code",
   "execution_count": null,
   "metadata": {},
   "outputs": [],
   "source": []
  },
  {
   "cell_type": "code",
   "execution_count": null,
   "metadata": {},
   "outputs": [],
   "source": []
  },
  {
   "cell_type": "code",
   "execution_count": null,
   "metadata": {},
   "outputs": [],
   "source": []
  },
  {
   "cell_type": "code",
   "execution_count": null,
   "metadata": {},
   "outputs": [],
   "source": []
  },
  {
   "cell_type": "code",
   "execution_count": null,
   "metadata": {},
   "outputs": [],
   "source": []
  },
  {
   "cell_type": "code",
   "execution_count": null,
   "metadata": {
    "ExecuteTime": {
     "end_time": "2021-01-16T01:00:24.512708Z",
     "start_time": "2021-01-16T01:00:24.492119Z"
    }
   },
   "outputs": [],
   "source": [
    "# Swimming\n",
    "category2 = lambda x: 'Swimming' if 'Swimming' in x  or 'Snorkeling' in x else x\n",
    "shark['Activity_Category'] = shark.Activity.map(category2)"
   ]
  },
  {
   "cell_type": "code",
   "execution_count": null,
   "metadata": {
    "ExecuteTime": {
     "end_time": "2021-01-16T01:00:26.810421Z",
     "start_time": "2021-01-16T01:00:26.789291Z"
    }
   },
   "outputs": [],
   "source": [
    "shark.Activity_Category.value_counts().head(15)"
   ]
  },
  {
   "cell_type": "code",
   "execution_count": null,
   "metadata": {
    "ExecuteTime": {
     "end_time": "2021-01-16T01:10:18.877944Z",
     "start_time": "2021-01-16T01:10:18.845964Z"
    }
   },
   "outputs": [],
   "source": [
    "shark.head()"
   ]
  },
  {
   "cell_type": "code",
   "execution_count": null,
   "metadata": {
    "ExecuteTime": {
     "end_time": "2021-01-16T00:26:28.401634Z",
     "start_time": "2021-01-16T00:26:28.364513Z"
    }
   },
   "outputs": [],
   "source": [
    "shark_attack = shark_attack[['Year','Type','Country','Area','Activity','Activity_Category','Injury','Fatal']]\n",
    "shark_attack.head()"
   ]
  },
  {
   "cell_type": "code",
   "execution_count": null,
   "metadata": {
    "ExecuteTime": {
     "end_time": "2021-01-16T00:25:49.379358Z",
     "start_time": "2021-01-16T00:25:49.374383Z"
    }
   },
   "outputs": [],
   "source": [
    "# substituir valores nulos por 'NOT SPECIFIED' pois as informações mais relevantes que é ANO e ATIVIDADE ja estão limpas"
   ]
  },
  {
   "cell_type": "code",
   "execution_count": null,
   "metadata": {
    "ExecuteTime": {
     "end_time": "2021-01-15T23:30:19.401727Z",
     "start_time": "2021-01-15T23:30:19.378747Z"
    }
   },
   "outputs": [],
   "source": [
    "shark_attack.isnull().sum()"
   ]
  },
  {
   "cell_type": "code",
   "execution_count": null,
   "metadata": {
    "ExecuteTime": {
     "end_time": "2021-01-15T23:50:53.857487Z",
     "start_time": "2021-01-15T23:50:53.837541Z"
    }
   },
   "outputs": [],
   "source": [
    "shark_attack = shark_attack.fillna('NOT SPECIFIED')"
   ]
  },
  {
   "cell_type": "code",
   "execution_count": null,
   "metadata": {
    "ExecuteTime": {
     "end_time": "2021-01-15T23:50:54.541375Z",
     "start_time": "2021-01-15T23:50:54.527411Z"
    }
   },
   "outputs": [],
   "source": [
    "shark_attack.isnull().sum()"
   ]
  },
  {
   "cell_type": "code",
   "execution_count": null,
   "metadata": {},
   "outputs": [],
   "source": []
  },
  {
   "cell_type": "code",
   "execution_count": null,
   "metadata": {},
   "outputs": [],
   "source": []
  },
  {
   "cell_type": "code",
   "execution_count": null,
   "metadata": {},
   "outputs": [],
   "source": []
  }
 ],
 "metadata": {
  "kernelspec": {
   "display_name": "Python 3",
   "language": "python",
   "name": "python3"
  },
  "language_info": {
   "codemirror_mode": {
    "name": "ipython",
    "version": 3
   },
   "file_extension": ".py",
   "mimetype": "text/x-python",
   "name": "python",
   "nbconvert_exporter": "python",
   "pygments_lexer": "ipython3",
   "version": "3.8.3"
  },
  "toc": {
   "base_numbering": 1,
   "nav_menu": {},
   "number_sections": true,
   "sideBar": true,
   "skip_h1_title": false,
   "title_cell": "Table of Contents",
   "title_sidebar": "Contents",
   "toc_cell": false,
   "toc_position": {},
   "toc_section_display": true,
   "toc_window_display": false
  },
  "varInspector": {
   "cols": {
    "lenName": 16,
    "lenType": 16,
    "lenVar": 40
   },
   "kernels_config": {
    "python": {
     "delete_cmd_postfix": "",
     "delete_cmd_prefix": "del ",
     "library": "var_list.py",
     "varRefreshCmd": "print(var_dic_list())"
    },
    "r": {
     "delete_cmd_postfix": ") ",
     "delete_cmd_prefix": "rm(",
     "library": "var_list.r",
     "varRefreshCmd": "cat(var_dic_list()) "
    }
   },
   "types_to_exclude": [
    "module",
    "function",
    "builtin_function_or_method",
    "instance",
    "_Feature"
   ],
   "window_display": false
  }
 },
 "nbformat": 4,
 "nbformat_minor": 4
}
